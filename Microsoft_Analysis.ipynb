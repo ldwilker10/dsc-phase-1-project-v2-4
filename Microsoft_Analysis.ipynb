{
 "cells": [
  {
   "cell_type": "markdown",
   "metadata": {},
   "source": [
    "## Final Project Submission\n",
    "\n",
    "Please fill out:\n",
    "* Student name: Lucas Wilkerson\n",
    "* Student pace: Flex (self paced / part time)\n",
    "* Scheduled project review date/time: \n",
    "* Instructor name: Morgan Jones\n",
    "\n"
   ]
  },
  {
   "cell_type": "markdown",
   "metadata": {},
   "source": [
    "# Microsoft Movie Analysis "
   ]
  },
  {
   "cell_type": "markdown",
   "metadata": {},
   "source": [
    "## Overview\n",
    "\n",
    "This project analyzes characteristics and factors of movies that are correlated to success at the box office to generate insights and recommendations for the stakeholder. Descriptive analysis of budget, gross earnings, genre and runtime will be explored to see how these are related to movie success and return on investment (measured by net gross earnings). Microsoft stakeholders can use this analysis to decide what type of films to create and what budgets to plan for."
   ]
  },
  {
   "cell_type": "markdown",
   "metadata": {},
   "source": [
    "## Business Problem\n",
    "\n",
    "\n",
    "Microsoft is planning to create a new movie studio to get into the original video/film space. They do not have any background in creating movies and what makes a successful film. Through exploring data from sources such as Box Office Mojo, IMDB, and The Numbers, I plan to explore what types of films are doing the best at the box office and find out what characteristics are correlated to movie success. For this analysis, movie success will be defined as overall net gross earnings (total gross earning - budget/cost). These findings will be translated into actionable insights that can help Microsoft's new movie studio decide what direction to take when creating new films. "
   ]
  },
  {
   "cell_type": "markdown",
   "metadata": {},
   "source": [
    "## Data Understanding\n",
    "\n",
    "I will be exploring data sets from Box Office Mojo, The Numbers and IMDB for this analysis. \n"
   ]
  },
  {
   "cell_type": "code",
   "execution_count": 1,
   "metadata": {},
   "outputs": [],
   "source": [
    "#Import Standard Packages\n",
    "import pandas as pd \n",
    "import numpy as np \n",
    "import seaborn as sns\n",
    "import matplotlib.pyplot as plt \n",
    "%matplotlib inline\n",
    "import sqlite3 \n",
    "from zipfile import ZipFile "
   ]
  },
  {
   "cell_type": "markdown",
   "metadata": {},
   "source": [
    "Importing standard packages that will be used during this analysis.  "
   ]
  },
  {
   "cell_type": "code",
   "execution_count": 2,
   "metadata": {},
   "outputs": [
    {
     "name": "stdout",
     "output_type": "stream",
     "text": [
      "File Name                                             Modified             Size\n",
      "im.db                                          2021-12-20 16:31:38    169443328\n"
     ]
    }
   ],
   "source": [
    "#Importing Imdb data set\n",
    "\n",
    "with ZipFile(r\"/Users/lucaswilkerson/Desktop/Phase1_project/dsc-phase-1-project-v2-4/zippedData/im.db.zip\", 'r') as zfiles:\n",
    "   zfiles.printdir()\n",
    "   zfiles.extractall()\n",
    "\n",
    "#Reading in additional files need from The Numbers Budget data set and Box Office Mojo\n",
    "\n",
    "tn_budgets = pd.read_csv(\"zippedData/tn.movie_budgets.csv.gz\")\n",
    "bom_gross = pd.read_csv(\"zippedData/bom.movie_gross.csv.gz\")"
   ]
  },
  {
   "cell_type": "markdown",
   "metadata": {},
   "source": [
    "To start, I am importing the data sets to preview. The Numbers and Box Office Mojo can read in as a CSV file. The IM.DB file had to be opened using ZipFile and extracting the information. "
   ]
  },
  {
   "cell_type": "code",
   "execution_count": 3,
   "metadata": {},
   "outputs": [
    {
     "data": {
      "text/html": [
       "<div>\n",
       "<style scoped>\n",
       "    .dataframe tbody tr th:only-of-type {\n",
       "        vertical-align: middle;\n",
       "    }\n",
       "\n",
       "    .dataframe tbody tr th {\n",
       "        vertical-align: top;\n",
       "    }\n",
       "\n",
       "    .dataframe thead th {\n",
       "        text-align: right;\n",
       "    }\n",
       "</style>\n",
       "<table border=\"1\" class=\"dataframe\">\n",
       "  <thead>\n",
       "    <tr style=\"text-align: right;\">\n",
       "      <th></th>\n",
       "      <th>id</th>\n",
       "      <th>release_date</th>\n",
       "      <th>movie</th>\n",
       "      <th>production_budget</th>\n",
       "      <th>domestic_gross</th>\n",
       "      <th>worldwide_gross</th>\n",
       "    </tr>\n",
       "  </thead>\n",
       "  <tbody>\n",
       "    <tr>\n",
       "      <th>0</th>\n",
       "      <td>1</td>\n",
       "      <td>Dec 18, 2009</td>\n",
       "      <td>Avatar</td>\n",
       "      <td>$425,000,000</td>\n",
       "      <td>$760,507,625</td>\n",
       "      <td>$2,776,345,279</td>\n",
       "    </tr>\n",
       "    <tr>\n",
       "      <th>1</th>\n",
       "      <td>2</td>\n",
       "      <td>May 20, 2011</td>\n",
       "      <td>Pirates of the Caribbean: On Stranger Tides</td>\n",
       "      <td>$410,600,000</td>\n",
       "      <td>$241,063,875</td>\n",
       "      <td>$1,045,663,875</td>\n",
       "    </tr>\n",
       "    <tr>\n",
       "      <th>2</th>\n",
       "      <td>3</td>\n",
       "      <td>Jun 7, 2019</td>\n",
       "      <td>Dark Phoenix</td>\n",
       "      <td>$350,000,000</td>\n",
       "      <td>$42,762,350</td>\n",
       "      <td>$149,762,350</td>\n",
       "    </tr>\n",
       "    <tr>\n",
       "      <th>3</th>\n",
       "      <td>4</td>\n",
       "      <td>May 1, 2015</td>\n",
       "      <td>Avengers: Age of Ultron</td>\n",
       "      <td>$330,600,000</td>\n",
       "      <td>$459,005,868</td>\n",
       "      <td>$1,403,013,963</td>\n",
       "    </tr>\n",
       "    <tr>\n",
       "      <th>4</th>\n",
       "      <td>5</td>\n",
       "      <td>Dec 15, 2017</td>\n",
       "      <td>Star Wars Ep. VIII: The Last Jedi</td>\n",
       "      <td>$317,000,000</td>\n",
       "      <td>$620,181,382</td>\n",
       "      <td>$1,316,721,747</td>\n",
       "    </tr>\n",
       "  </tbody>\n",
       "</table>\n",
       "</div>"
      ],
      "text/plain": [
       "   id  release_date                                        movie  \\\n",
       "0   1  Dec 18, 2009                                       Avatar   \n",
       "1   2  May 20, 2011  Pirates of the Caribbean: On Stranger Tides   \n",
       "2   3   Jun 7, 2019                                 Dark Phoenix   \n",
       "3   4   May 1, 2015                      Avengers: Age of Ultron   \n",
       "4   5  Dec 15, 2017            Star Wars Ep. VIII: The Last Jedi   \n",
       "\n",
       "  production_budget domestic_gross worldwide_gross  \n",
       "0      $425,000,000   $760,507,625  $2,776,345,279  \n",
       "1      $410,600,000   $241,063,875  $1,045,663,875  \n",
       "2      $350,000,000    $42,762,350    $149,762,350  \n",
       "3      $330,600,000   $459,005,868  $1,403,013,963  \n",
       "4      $317,000,000   $620,181,382  $1,316,721,747  "
      ]
     },
     "execution_count": 3,
     "metadata": {},
     "output_type": "execute_result"
    }
   ],
   "source": [
    "#Previewing data set\n",
    "tn_budgets.head()"
   ]
  },
  {
   "cell_type": "markdown",
   "metadata": {},
   "source": [
    "I called .head() method to preview the first 5 rows of the Numbers data set to see how the information is shown. "
   ]
  },
  {
   "cell_type": "code",
   "execution_count": 4,
   "metadata": {},
   "outputs": [
    {
     "name": "stdout",
     "output_type": "stream",
     "text": [
      "<class 'pandas.core.frame.DataFrame'>\n",
      "RangeIndex: 5782 entries, 0 to 5781\n",
      "Data columns (total 6 columns):\n",
      " #   Column             Non-Null Count  Dtype \n",
      "---  ------             --------------  ----- \n",
      " 0   id                 5782 non-null   int64 \n",
      " 1   release_date       5782 non-null   object\n",
      " 2   movie              5782 non-null   object\n",
      " 3   production_budget  5782 non-null   object\n",
      " 4   domestic_gross     5782 non-null   object\n",
      " 5   worldwide_gross    5782 non-null   object\n",
      "dtypes: int64(1), object(5)\n",
      "memory usage: 271.2+ KB\n"
     ]
    }
   ],
   "source": [
    "#Previewing data set info  \n",
    "tn_budgets.info()"
   ]
  },
  {
   "cell_type": "markdown",
   "metadata": {},
   "source": [
    "The Numbers Budget data set contains 5782 records with 6 columns. Columns include id, release_date, movie, production_budget domestic_gross, and worldwide_gross with their data types being integer, object, object, object \n",
    "and object respectively. There are no missing values in this dataset. The production_budget, domestic_gross and worldwide_gross columns will need to be reformatted for calculations. "
   ]
  },
  {
   "cell_type": "code",
   "execution_count": 5,
   "metadata": {},
   "outputs": [
    {
     "data": {
      "text/html": [
       "<div>\n",
       "<style scoped>\n",
       "    .dataframe tbody tr th:only-of-type {\n",
       "        vertical-align: middle;\n",
       "    }\n",
       "\n",
       "    .dataframe tbody tr th {\n",
       "        vertical-align: top;\n",
       "    }\n",
       "\n",
       "    .dataframe thead th {\n",
       "        text-align: right;\n",
       "    }\n",
       "</style>\n",
       "<table border=\"1\" class=\"dataframe\">\n",
       "  <thead>\n",
       "    <tr style=\"text-align: right;\">\n",
       "      <th></th>\n",
       "      <th>title</th>\n",
       "      <th>studio</th>\n",
       "      <th>domestic_gross</th>\n",
       "      <th>foreign_gross</th>\n",
       "      <th>year</th>\n",
       "    </tr>\n",
       "  </thead>\n",
       "  <tbody>\n",
       "    <tr>\n",
       "      <th>0</th>\n",
       "      <td>Toy Story 3</td>\n",
       "      <td>BV</td>\n",
       "      <td>415000000.0</td>\n",
       "      <td>652000000</td>\n",
       "      <td>2010</td>\n",
       "    </tr>\n",
       "    <tr>\n",
       "      <th>1</th>\n",
       "      <td>Alice in Wonderland (2010)</td>\n",
       "      <td>BV</td>\n",
       "      <td>334200000.0</td>\n",
       "      <td>691300000</td>\n",
       "      <td>2010</td>\n",
       "    </tr>\n",
       "    <tr>\n",
       "      <th>2</th>\n",
       "      <td>Harry Potter and the Deathly Hallows Part 1</td>\n",
       "      <td>WB</td>\n",
       "      <td>296000000.0</td>\n",
       "      <td>664300000</td>\n",
       "      <td>2010</td>\n",
       "    </tr>\n",
       "    <tr>\n",
       "      <th>3</th>\n",
       "      <td>Inception</td>\n",
       "      <td>WB</td>\n",
       "      <td>292600000.0</td>\n",
       "      <td>535700000</td>\n",
       "      <td>2010</td>\n",
       "    </tr>\n",
       "    <tr>\n",
       "      <th>4</th>\n",
       "      <td>Shrek Forever After</td>\n",
       "      <td>P/DW</td>\n",
       "      <td>238700000.0</td>\n",
       "      <td>513900000</td>\n",
       "      <td>2010</td>\n",
       "    </tr>\n",
       "  </tbody>\n",
       "</table>\n",
       "</div>"
      ],
      "text/plain": [
       "                                         title studio  domestic_gross  \\\n",
       "0                                  Toy Story 3     BV     415000000.0   \n",
       "1                   Alice in Wonderland (2010)     BV     334200000.0   \n",
       "2  Harry Potter and the Deathly Hallows Part 1     WB     296000000.0   \n",
       "3                                    Inception     WB     292600000.0   \n",
       "4                          Shrek Forever After   P/DW     238700000.0   \n",
       "\n",
       "  foreign_gross  year  \n",
       "0     652000000  2010  \n",
       "1     691300000  2010  \n",
       "2     664300000  2010  \n",
       "3     535700000  2010  \n",
       "4     513900000  2010  "
      ]
     },
     "execution_count": 5,
     "metadata": {},
     "output_type": "execute_result"
    }
   ],
   "source": [
    "#Previewing data set\n",
    "bom_gross.head()"
   ]
  },
  {
   "cell_type": "markdown",
   "metadata": {},
   "source": [
    "I called .head() method to preview the first 5 rows of the Box Office Mojo data set to see how the information is shown. "
   ]
  },
  {
   "cell_type": "code",
   "execution_count": 6,
   "metadata": {},
   "outputs": [
    {
     "name": "stdout",
     "output_type": "stream",
     "text": [
      "<class 'pandas.core.frame.DataFrame'>\n",
      "RangeIndex: 3387 entries, 0 to 3386\n",
      "Data columns (total 5 columns):\n",
      " #   Column          Non-Null Count  Dtype  \n",
      "---  ------          --------------  -----  \n",
      " 0   title           3387 non-null   object \n",
      " 1   studio          3382 non-null   object \n",
      " 2   domestic_gross  3359 non-null   float64\n",
      " 3   foreign_gross   2037 non-null   object \n",
      " 4   year            3387 non-null   int64  \n",
      "dtypes: float64(1), int64(1), object(3)\n",
      "memory usage: 132.4+ KB\n"
     ]
    }
   ],
   "source": [
    "#Previewing data set\n",
    "bom_gross.info()"
   ]
  },
  {
   "cell_type": "markdown",
   "metadata": {},
   "source": [
    "The Box Office Mojo data set contains 3387 records with 5 columns. Columns include title, studio, domestic_gross, foreign_gross and year with their data types being object, object, float, object and integer respecitvely. \n",
    "There are missing values in the columns studio (5), domestic_gross (28), and foreign_gross (1350). "
   ]
  },
  {
   "cell_type": "code",
   "execution_count": 7,
   "metadata": {},
   "outputs": [
    {
     "data": {
      "text/html": [
       "<div>\n",
       "<style scoped>\n",
       "    .dataframe tbody tr th:only-of-type {\n",
       "        vertical-align: middle;\n",
       "    }\n",
       "\n",
       "    .dataframe tbody tr th {\n",
       "        vertical-align: top;\n",
       "    }\n",
       "\n",
       "    .dataframe thead th {\n",
       "        text-align: right;\n",
       "    }\n",
       "</style>\n",
       "<table border=\"1\" class=\"dataframe\">\n",
       "  <thead>\n",
       "    <tr style=\"text-align: right;\">\n",
       "      <th></th>\n",
       "      <th>movie_id</th>\n",
       "      <th>ordering</th>\n",
       "      <th>title</th>\n",
       "      <th>region</th>\n",
       "      <th>language</th>\n",
       "      <th>types</th>\n",
       "      <th>attributes</th>\n",
       "      <th>is_original_title</th>\n",
       "    </tr>\n",
       "  </thead>\n",
       "  <tbody>\n",
       "    <tr>\n",
       "      <th>0</th>\n",
       "      <td>tt0369610</td>\n",
       "      <td>10</td>\n",
       "      <td>Джурасик свят</td>\n",
       "      <td>BG</td>\n",
       "      <td>bg</td>\n",
       "      <td>None</td>\n",
       "      <td>None</td>\n",
       "      <td>0.0</td>\n",
       "    </tr>\n",
       "    <tr>\n",
       "      <th>1</th>\n",
       "      <td>tt0369610</td>\n",
       "      <td>11</td>\n",
       "      <td>Jurashikku warudo</td>\n",
       "      <td>JP</td>\n",
       "      <td>None</td>\n",
       "      <td>imdbDisplay</td>\n",
       "      <td>None</td>\n",
       "      <td>0.0</td>\n",
       "    </tr>\n",
       "    <tr>\n",
       "      <th>2</th>\n",
       "      <td>tt0369610</td>\n",
       "      <td>12</td>\n",
       "      <td>Jurassic World: O Mundo dos Dinossauros</td>\n",
       "      <td>BR</td>\n",
       "      <td>None</td>\n",
       "      <td>imdbDisplay</td>\n",
       "      <td>None</td>\n",
       "      <td>0.0</td>\n",
       "    </tr>\n",
       "    <tr>\n",
       "      <th>3</th>\n",
       "      <td>tt0369610</td>\n",
       "      <td>13</td>\n",
       "      <td>O Mundo dos Dinossauros</td>\n",
       "      <td>BR</td>\n",
       "      <td>None</td>\n",
       "      <td>None</td>\n",
       "      <td>short title</td>\n",
       "      <td>0.0</td>\n",
       "    </tr>\n",
       "    <tr>\n",
       "      <th>4</th>\n",
       "      <td>tt0369610</td>\n",
       "      <td>14</td>\n",
       "      <td>Jurassic World</td>\n",
       "      <td>FR</td>\n",
       "      <td>None</td>\n",
       "      <td>imdbDisplay</td>\n",
       "      <td>None</td>\n",
       "      <td>0.0</td>\n",
       "    </tr>\n",
       "    <tr>\n",
       "      <th>...</th>\n",
       "      <td>...</td>\n",
       "      <td>...</td>\n",
       "      <td>...</td>\n",
       "      <td>...</td>\n",
       "      <td>...</td>\n",
       "      <td>...</td>\n",
       "      <td>...</td>\n",
       "      <td>...</td>\n",
       "    </tr>\n",
       "    <tr>\n",
       "      <th>331698</th>\n",
       "      <td>tt9827784</td>\n",
       "      <td>2</td>\n",
       "      <td>Sayonara kuchibiru</td>\n",
       "      <td>None</td>\n",
       "      <td>None</td>\n",
       "      <td>original</td>\n",
       "      <td>None</td>\n",
       "      <td>1.0</td>\n",
       "    </tr>\n",
       "    <tr>\n",
       "      <th>331699</th>\n",
       "      <td>tt9827784</td>\n",
       "      <td>3</td>\n",
       "      <td>Farewell Song</td>\n",
       "      <td>XWW</td>\n",
       "      <td>en</td>\n",
       "      <td>imdbDisplay</td>\n",
       "      <td>None</td>\n",
       "      <td>0.0</td>\n",
       "    </tr>\n",
       "    <tr>\n",
       "      <th>331700</th>\n",
       "      <td>tt9880178</td>\n",
       "      <td>1</td>\n",
       "      <td>La atención</td>\n",
       "      <td>None</td>\n",
       "      <td>None</td>\n",
       "      <td>original</td>\n",
       "      <td>None</td>\n",
       "      <td>1.0</td>\n",
       "    </tr>\n",
       "    <tr>\n",
       "      <th>331701</th>\n",
       "      <td>tt9880178</td>\n",
       "      <td>2</td>\n",
       "      <td>La atención</td>\n",
       "      <td>ES</td>\n",
       "      <td>None</td>\n",
       "      <td>None</td>\n",
       "      <td>None</td>\n",
       "      <td>0.0</td>\n",
       "    </tr>\n",
       "    <tr>\n",
       "      <th>331702</th>\n",
       "      <td>tt9880178</td>\n",
       "      <td>3</td>\n",
       "      <td>The Attention</td>\n",
       "      <td>XWW</td>\n",
       "      <td>en</td>\n",
       "      <td>imdbDisplay</td>\n",
       "      <td>None</td>\n",
       "      <td>0.0</td>\n",
       "    </tr>\n",
       "  </tbody>\n",
       "</table>\n",
       "<p>331703 rows × 8 columns</p>\n",
       "</div>"
      ],
      "text/plain": [
       "         movie_id  ordering                                    title region  \\\n",
       "0       tt0369610        10                            Джурасик свят     BG   \n",
       "1       tt0369610        11                        Jurashikku warudo     JP   \n",
       "2       tt0369610        12  Jurassic World: O Mundo dos Dinossauros     BR   \n",
       "3       tt0369610        13                  O Mundo dos Dinossauros     BR   \n",
       "4       tt0369610        14                           Jurassic World     FR   \n",
       "...           ...       ...                                      ...    ...   \n",
       "331698  tt9827784         2                       Sayonara kuchibiru   None   \n",
       "331699  tt9827784         3                            Farewell Song    XWW   \n",
       "331700  tt9880178         1                              La atención   None   \n",
       "331701  tt9880178         2                              La atención     ES   \n",
       "331702  tt9880178         3                            The Attention    XWW   \n",
       "\n",
       "       language        types   attributes  is_original_title  \n",
       "0            bg         None         None                0.0  \n",
       "1          None  imdbDisplay         None                0.0  \n",
       "2          None  imdbDisplay         None                0.0  \n",
       "3          None         None  short title                0.0  \n",
       "4          None  imdbDisplay         None                0.0  \n",
       "...         ...          ...          ...                ...  \n",
       "331698     None     original         None                1.0  \n",
       "331699       en  imdbDisplay         None                0.0  \n",
       "331700     None     original         None                1.0  \n",
       "331701     None         None         None                0.0  \n",
       "331702       en  imdbDisplay         None                0.0  \n",
       "\n",
       "[331703 rows x 8 columns]"
      ]
     },
     "execution_count": 7,
     "metadata": {},
     "output_type": "execute_result"
    }
   ],
   "source": [
    "#exploring IMDB data set\n",
    "conn = sqlite3.connect(\"im.db\")\n",
    "cur = conn.cursor()\n",
    "imdb_df = pd.read_sql(\n",
    "    \"\"\"\n",
    "SELECT *\n",
    "FROM movie_akas\n",
    "\"\"\",\n",
    "    conn,\n",
    ")\n",
    "imdb_df"
   ]
  },
  {
   "cell_type": "markdown",
   "metadata": {},
   "source": [
    "Utilizing the movie_data_erd.jpeg that was included, I ran an initial query of the IMDB data set pulling information from the table movies_akas. "
   ]
  },
  {
   "cell_type": "code",
   "execution_count": 8,
   "metadata": {},
   "outputs": [
    {
     "data": {
      "text/html": [
       "<div>\n",
       "<style scoped>\n",
       "    .dataframe tbody tr th:only-of-type {\n",
       "        vertical-align: middle;\n",
       "    }\n",
       "\n",
       "    .dataframe tbody tr th {\n",
       "        vertical-align: top;\n",
       "    }\n",
       "\n",
       "    .dataframe thead th {\n",
       "        text-align: right;\n",
       "    }\n",
       "</style>\n",
       "<table border=\"1\" class=\"dataframe\">\n",
       "  <thead>\n",
       "    <tr style=\"text-align: right;\">\n",
       "      <th></th>\n",
       "      <th>movie_id</th>\n",
       "      <th>runtime_minutes</th>\n",
       "      <th>genres</th>\n",
       "      <th>averagerating</th>\n",
       "      <th>numvotes</th>\n",
       "      <th>title</th>\n",
       "      <th>is_original_title</th>\n",
       "    </tr>\n",
       "  </thead>\n",
       "  <tbody>\n",
       "    <tr>\n",
       "      <th>0</th>\n",
       "      <td>tt0063540</td>\n",
       "      <td>175.0</td>\n",
       "      <td>Action,Crime,Drama</td>\n",
       "      <td>7.0</td>\n",
       "      <td>77</td>\n",
       "      <td>Sunghursh</td>\n",
       "      <td>1.0</td>\n",
       "    </tr>\n",
       "    <tr>\n",
       "      <th>1</th>\n",
       "      <td>tt0066787</td>\n",
       "      <td>114.0</td>\n",
       "      <td>Biography,Drama</td>\n",
       "      <td>7.2</td>\n",
       "      <td>43</td>\n",
       "      <td>Ashad Ka Ek Din</td>\n",
       "      <td>1.0</td>\n",
       "    </tr>\n",
       "    <tr>\n",
       "      <th>2</th>\n",
       "      <td>tt0069049</td>\n",
       "      <td>122.0</td>\n",
       "      <td>Drama</td>\n",
       "      <td>6.9</td>\n",
       "      <td>4517</td>\n",
       "      <td>The Other Side of the Wind</td>\n",
       "      <td>1.0</td>\n",
       "    </tr>\n",
       "    <tr>\n",
       "      <th>3</th>\n",
       "      <td>tt0069204</td>\n",
       "      <td>NaN</td>\n",
       "      <td>Comedy,Drama</td>\n",
       "      <td>6.1</td>\n",
       "      <td>13</td>\n",
       "      <td>Sabse Bada Sukh</td>\n",
       "      <td>1.0</td>\n",
       "    </tr>\n",
       "    <tr>\n",
       "      <th>4</th>\n",
       "      <td>tt0100275</td>\n",
       "      <td>80.0</td>\n",
       "      <td>Comedy,Drama,Fantasy</td>\n",
       "      <td>6.5</td>\n",
       "      <td>119</td>\n",
       "      <td>La Telenovela Errante</td>\n",
       "      <td>1.0</td>\n",
       "    </tr>\n",
       "    <tr>\n",
       "      <th>...</th>\n",
       "      <td>...</td>\n",
       "      <td>...</td>\n",
       "      <td>...</td>\n",
       "      <td>...</td>\n",
       "      <td>...</td>\n",
       "      <td>...</td>\n",
       "      <td>...</td>\n",
       "    </tr>\n",
       "    <tr>\n",
       "      <th>36852</th>\n",
       "      <td>tt9899860</td>\n",
       "      <td>100.0</td>\n",
       "      <td>Drama,Thriller</td>\n",
       "      <td>8.1</td>\n",
       "      <td>7</td>\n",
       "      <td>Didan in film jorm ast</td>\n",
       "      <td>1.0</td>\n",
       "    </tr>\n",
       "    <tr>\n",
       "      <th>36853</th>\n",
       "      <td>tt9899880</td>\n",
       "      <td>85.0</td>\n",
       "      <td>Comedy</td>\n",
       "      <td>5.8</td>\n",
       "      <td>5</td>\n",
       "      <td>Columbus</td>\n",
       "      <td>1.0</td>\n",
       "    </tr>\n",
       "    <tr>\n",
       "      <th>36854</th>\n",
       "      <td>tt9903952</td>\n",
       "      <td>87.0</td>\n",
       "      <td>Comedy,Horror</td>\n",
       "      <td>9.2</td>\n",
       "      <td>5</td>\n",
       "      <td>BADMEN with a good behavior</td>\n",
       "      <td>1.0</td>\n",
       "    </tr>\n",
       "    <tr>\n",
       "      <th>36855</th>\n",
       "      <td>tt9905462</td>\n",
       "      <td>111.0</td>\n",
       "      <td>Drama</td>\n",
       "      <td>8.4</td>\n",
       "      <td>600</td>\n",
       "      <td>Pengalila</td>\n",
       "      <td>1.0</td>\n",
       "    </tr>\n",
       "    <tr>\n",
       "      <th>36856</th>\n",
       "      <td>tt9911774</td>\n",
       "      <td>130.0</td>\n",
       "      <td>Drama</td>\n",
       "      <td>8.4</td>\n",
       "      <td>365</td>\n",
       "      <td>Padmavyuhathile Abhimanyu</td>\n",
       "      <td>1.0</td>\n",
       "    </tr>\n",
       "  </tbody>\n",
       "</table>\n",
       "<p>36857 rows × 7 columns</p>\n",
       "</div>"
      ],
      "text/plain": [
       "        movie_id  runtime_minutes                genres  averagerating  \\\n",
       "0      tt0063540            175.0    Action,Crime,Drama            7.0   \n",
       "1      tt0066787            114.0       Biography,Drama            7.2   \n",
       "2      tt0069049            122.0                 Drama            6.9   \n",
       "3      tt0069204              NaN          Comedy,Drama            6.1   \n",
       "4      tt0100275             80.0  Comedy,Drama,Fantasy            6.5   \n",
       "...          ...              ...                   ...            ...   \n",
       "36852  tt9899860            100.0        Drama,Thriller            8.1   \n",
       "36853  tt9899880             85.0                Comedy            5.8   \n",
       "36854  tt9903952             87.0         Comedy,Horror            9.2   \n",
       "36855  tt9905462            111.0                 Drama            8.4   \n",
       "36856  tt9911774            130.0                 Drama            8.4   \n",
       "\n",
       "       numvotes                        title  is_original_title  \n",
       "0            77                    Sunghursh                1.0  \n",
       "1            43              Ashad Ka Ek Din                1.0  \n",
       "2          4517   The Other Side of the Wind                1.0  \n",
       "3            13              Sabse Bada Sukh                1.0  \n",
       "4           119        La Telenovela Errante                1.0  \n",
       "...         ...                          ...                ...  \n",
       "36852         7       Didan in film jorm ast                1.0  \n",
       "36853         5                     Columbus                1.0  \n",
       "36854         5  BADMEN with a good behavior                1.0  \n",
       "36855       600                    Pengalila                1.0  \n",
       "36856       365    Padmavyuhathile Abhimanyu                1.0  \n",
       "\n",
       "[36857 rows x 7 columns]"
      ]
     },
     "execution_count": 8,
     "metadata": {},
     "output_type": "execute_result"
    }
   ],
   "source": [
    "conn = sqlite3.connect(\"im.db\")\n",
    "cur = conn.cursor()\n",
    "imdb_movies = pd.read_sql(\n",
    "    \"\"\"\n",
    "SELECT b.movie_id, \n",
    "       b.runtime_minutes, \n",
    "       b.genres, \n",
    "       r.averagerating, \n",
    "       r.numvotes,\n",
    "       a.title, \n",
    "       a.is_original_title\n",
    "FROM movie_basics as b\n",
    "JOIN movie_ratings as r\n",
    "    USING (movie_id)\n",
    "JOIN movie_akas as a\n",
    "    USING (movie_id)\n",
    "WHERE is_original_title is 1.0\n",
    "GROUP BY movie_id, genres\n",
    "\n",
    "\"\"\",\n",
    "    conn,\n",
    ")\n",
    "imdb_movies"
   ]
  },
  {
   "cell_type": "markdown",
   "metadata": {},
   "source": [
    "Looking at the IMDB data set and the Movie Data ERD I have detertmined I the columns needed will need to be title, runtime_minutes, genres and movie_id. To acquire these various columns I started with the movie_basics tables and performed joins on the movie_ratings and movies_akas via movie_id. I set original_title to one because I wanted to return movies that had their original title and then grouped but movie_id and genre. This yielded 36857 entries. "
   ]
  },
  {
   "cell_type": "markdown",
   "metadata": {},
   "source": [
    "## Data Preparation\n",
    "\n",
    "Looking at the initial information from the data sets, I have decided to forgo using the Box Office Mojo data set and will be using the The Numbers data set and the IMBD data set. While Box Office Mojo had relevant information on gross earings, it lacked production budget which is needed for further analysis of overall net gross earnings. The Numbers data set contains both production budget and worldwide gross for the movies, while the IMDB data set contains genres and the runtimes of the movies. These data sets will be combined to look at our variables of budget, runtime, and genre when compared to net gross earnings. \n"
   ]
  },
  {
   "cell_type": "code",
   "execution_count": 9,
   "metadata": {},
   "outputs": [],
   "source": [
    "#Reformatting values for domestic gross, worldwide_gross and production_budget\n",
    "tn_budgets['worldwide_gross'] = tn_budgets['worldwide_gross'].apply(\n",
    "    lambda x: int(x.replace('$','').replace(',','')))\n",
    "tn_budgets['domestic_gross'] = tn_budgets['domestic_gross'].apply(\n",
    "    lambda x: int(x.replace('$','').replace(',','')))\n",
    "tn_budgets['production_budget'] = tn_budgets['production_budget'].apply(\n",
    "    lambda x: int(x.replace('$','').replace(',','')))"
   ]
  },
  {
   "cell_type": "markdown",
   "metadata": {},
   "source": [
    "To start, I converted the column data types of domestic gross, worldwide gross and production budget from the Numbers data set from objects to integers to allow for further mathematical calculations. "
   ]
  },
  {
   "cell_type": "code",
   "execution_count": 10,
   "metadata": {},
   "outputs": [],
   "source": [
    "# dropping rows with 0 values for budget and gross columns\n",
    "tn_budget_cleaned = tn_budgets.loc[(tn_budgets.domestic_gross != 0) \n",
    "                                       &(tn_budgets.worldwide_gross != 0) \n",
    "                                       &(tn_budgets.production_budget != 0)]\n"
   ]
  },
  {
   "cell_type": "markdown",
   "metadata": {},
   "source": [
    "To clean the data set, I utilized the .loc to obtain all rows that do not have a 0 value in the domestic gross, worldwide gross and budget columns. I created a new dataframe to house this cleaned data set. "
   ]
  },
  {
   "cell_type": "code",
   "execution_count": 11,
   "metadata": {},
   "outputs": [
    {
     "name": "stdout",
     "output_type": "stream",
     "text": [
      "<class 'pandas.core.frame.DataFrame'>\n",
      "Int64Index: 5234 entries, 0 to 5781\n",
      "Data columns (total 6 columns):\n",
      " #   Column             Non-Null Count  Dtype \n",
      "---  ------             --------------  ----- \n",
      " 0   id                 5234 non-null   int64 \n",
      " 1   release_date       5234 non-null   object\n",
      " 2   movie              5234 non-null   object\n",
      " 3   production_budget  5234 non-null   int64 \n",
      " 4   domestic_gross     5234 non-null   int64 \n",
      " 5   worldwide_gross    5234 non-null   int64 \n",
      "dtypes: int64(4), object(2)\n",
      "memory usage: 286.2+ KB\n"
     ]
    }
   ],
   "source": [
    "tn_budget_cleaned.info()"
   ]
  },
  {
   "cell_type": "markdown",
   "metadata": {},
   "source": [
    "I have removed any rows that have a 0 value for the columns of domestic gross, worldwide gross and production budget from the Numbers data set to further clean the data. This leaves the data set with 5234 entries with no NaN values. "
   ]
  },
  {
   "cell_type": "code",
   "execution_count": 12,
   "metadata": {},
   "outputs": [
    {
     "name": "stderr",
     "output_type": "stream",
     "text": [
      "<ipython-input-12-d3b74269c838>:3: SettingWithCopyWarning: \n",
      "A value is trying to be set on a copy of a slice from a DataFrame.\n",
      "Try using .loc[row_indexer,col_indexer] = value instead\n",
      "\n",
      "See the caveats in the documentation: https://pandas.pydata.org/pandas-docs/stable/user_guide/indexing.html#returning-a-view-versus-a-copy\n",
      "  tn_budget_cleaned['Net_Gross']= tn_budget_cleaned['worldwide_gross'] - tn_budget_cleaned['production_budget']\n"
     ]
    },
    {
     "data": {
      "text/html": [
       "<div>\n",
       "<style scoped>\n",
       "    .dataframe tbody tr th:only-of-type {\n",
       "        vertical-align: middle;\n",
       "    }\n",
       "\n",
       "    .dataframe tbody tr th {\n",
       "        vertical-align: top;\n",
       "    }\n",
       "\n",
       "    .dataframe thead th {\n",
       "        text-align: right;\n",
       "    }\n",
       "</style>\n",
       "<table border=\"1\" class=\"dataframe\">\n",
       "  <thead>\n",
       "    <tr style=\"text-align: right;\">\n",
       "      <th></th>\n",
       "      <th>id</th>\n",
       "      <th>release_date</th>\n",
       "      <th>movie</th>\n",
       "      <th>production_budget</th>\n",
       "      <th>domestic_gross</th>\n",
       "      <th>worldwide_gross</th>\n",
       "      <th>Net_Gross</th>\n",
       "    </tr>\n",
       "  </thead>\n",
       "  <tbody>\n",
       "    <tr>\n",
       "      <th>0</th>\n",
       "      <td>1</td>\n",
       "      <td>Dec 18, 2009</td>\n",
       "      <td>Avatar</td>\n",
       "      <td>425000000</td>\n",
       "      <td>760507625</td>\n",
       "      <td>2776345279</td>\n",
       "      <td>2351345279</td>\n",
       "    </tr>\n",
       "    <tr>\n",
       "      <th>42</th>\n",
       "      <td>43</td>\n",
       "      <td>Dec 19, 1997</td>\n",
       "      <td>Titanic</td>\n",
       "      <td>200000000</td>\n",
       "      <td>659363944</td>\n",
       "      <td>2208208395</td>\n",
       "      <td>2008208395</td>\n",
       "    </tr>\n",
       "    <tr>\n",
       "      <th>6</th>\n",
       "      <td>7</td>\n",
       "      <td>Apr 27, 2018</td>\n",
       "      <td>Avengers: Infinity War</td>\n",
       "      <td>300000000</td>\n",
       "      <td>678815482</td>\n",
       "      <td>2048134200</td>\n",
       "      <td>1748134200</td>\n",
       "    </tr>\n",
       "    <tr>\n",
       "      <th>5</th>\n",
       "      <td>6</td>\n",
       "      <td>Dec 18, 2015</td>\n",
       "      <td>Star Wars Ep. VII: The Force Awakens</td>\n",
       "      <td>306000000</td>\n",
       "      <td>936662225</td>\n",
       "      <td>2053311220</td>\n",
       "      <td>1747311220</td>\n",
       "    </tr>\n",
       "    <tr>\n",
       "      <th>33</th>\n",
       "      <td>34</td>\n",
       "      <td>Jun 12, 2015</td>\n",
       "      <td>Jurassic World</td>\n",
       "      <td>215000000</td>\n",
       "      <td>652270625</td>\n",
       "      <td>1648854864</td>\n",
       "      <td>1433854864</td>\n",
       "    </tr>\n",
       "    <tr>\n",
       "      <th>66</th>\n",
       "      <td>67</td>\n",
       "      <td>Apr 3, 2015</td>\n",
       "      <td>Furious 7</td>\n",
       "      <td>190000000</td>\n",
       "      <td>353007020</td>\n",
       "      <td>1518722794</td>\n",
       "      <td>1328722794</td>\n",
       "    </tr>\n",
       "    <tr>\n",
       "      <th>26</th>\n",
       "      <td>27</td>\n",
       "      <td>May 4, 2012</td>\n",
       "      <td>The Avengers</td>\n",
       "      <td>225000000</td>\n",
       "      <td>623279547</td>\n",
       "      <td>1517935897</td>\n",
       "      <td>1292935897</td>\n",
       "    </tr>\n",
       "    <tr>\n",
       "      <th>260</th>\n",
       "      <td>61</td>\n",
       "      <td>Jul 15, 2011</td>\n",
       "      <td>Harry Potter and the Deathly Hallows: Part II</td>\n",
       "      <td>125000000</td>\n",
       "      <td>381193157</td>\n",
       "      <td>1341693157</td>\n",
       "      <td>1216693157</td>\n",
       "    </tr>\n",
       "    <tr>\n",
       "      <th>41</th>\n",
       "      <td>42</td>\n",
       "      <td>Feb 16, 2018</td>\n",
       "      <td>Black Panther</td>\n",
       "      <td>200000000</td>\n",
       "      <td>700059566</td>\n",
       "      <td>1348258224</td>\n",
       "      <td>1148258224</td>\n",
       "    </tr>\n",
       "    <tr>\n",
       "      <th>112</th>\n",
       "      <td>13</td>\n",
       "      <td>Jun 22, 2018</td>\n",
       "      <td>Jurassic World: Fallen Kingdom</td>\n",
       "      <td>170000000</td>\n",
       "      <td>417719760</td>\n",
       "      <td>1305772799</td>\n",
       "      <td>1135772799</td>\n",
       "    </tr>\n",
       "  </tbody>\n",
       "</table>\n",
       "</div>"
      ],
      "text/plain": [
       "     id  release_date                                          movie  \\\n",
       "0     1  Dec 18, 2009                                         Avatar   \n",
       "42   43  Dec 19, 1997                                        Titanic   \n",
       "6     7  Apr 27, 2018                         Avengers: Infinity War   \n",
       "5     6  Dec 18, 2015           Star Wars Ep. VII: The Force Awakens   \n",
       "33   34  Jun 12, 2015                                 Jurassic World   \n",
       "66   67   Apr 3, 2015                                      Furious 7   \n",
       "26   27   May 4, 2012                                   The Avengers   \n",
       "260  61  Jul 15, 2011  Harry Potter and the Deathly Hallows: Part II   \n",
       "41   42  Feb 16, 2018                                  Black Panther   \n",
       "112  13  Jun 22, 2018                 Jurassic World: Fallen Kingdom   \n",
       "\n",
       "     production_budget  domestic_gross  worldwide_gross   Net_Gross  \n",
       "0            425000000       760507625       2776345279  2351345279  \n",
       "42           200000000       659363944       2208208395  2008208395  \n",
       "6            300000000       678815482       2048134200  1748134200  \n",
       "5            306000000       936662225       2053311220  1747311220  \n",
       "33           215000000       652270625       1648854864  1433854864  \n",
       "66           190000000       353007020       1518722794  1328722794  \n",
       "26           225000000       623279547       1517935897  1292935897  \n",
       "260          125000000       381193157       1341693157  1216693157  \n",
       "41           200000000       700059566       1348258224  1148258224  \n",
       "112          170000000       417719760       1305772799  1135772799  "
      ]
     },
     "execution_count": 12,
     "metadata": {},
     "output_type": "execute_result"
    }
   ],
   "source": [
    "#Making a new column for Net gross earning (worldwide gross- production budget) and sorting by Net_gross\n",
    "\n",
    "tn_budget_cleaned['Net_Gross']= tn_budget_cleaned['worldwide_gross'] - tn_budget_cleaned['production_budget']\n",
    "top_gross_movies= tn_budget_cleaned.sort_values(\"Net_Gross\", ascending = False)\n",
    "\n",
    "#Previewing Top Grossing movies\n",
    "top_gross_movies.head(10)"
   ]
  },
  {
   "cell_type": "markdown",
   "metadata": {},
   "source": [
    "Next I created a new column for my success metric of Total Net Gross earnings. This is calculated by calculating the difference between worldwide gross and production budget. The data set was then sorted by net gross to review the top 10 highest net grossing movies. "
   ]
  },
  {
   "cell_type": "code",
   "execution_count": 13,
   "metadata": {},
   "outputs": [],
   "source": [
    "#Adding columns adjusting budget and gross to millions\n",
    "top_gross_movies['budget_millions']= (top_gross_movies[\"production_budget\"]/1000000)\n",
    "top_gross_movies['Net_gross_millions']=(top_gross_movies[\"Net_Gross\"]/1000000)"
   ]
  },
  {
   "cell_type": "markdown",
   "metadata": {},
   "source": [
    "To make visuals more legible, additional columns will be created for production budget and net gross to have values by the millions. "
   ]
  },
  {
   "cell_type": "code",
   "execution_count": 14,
   "metadata": {},
   "outputs": [
    {
     "data": {
      "text/plain": [
       "Text(0.5, 1.0, 'Distribution of Films by Total Net Gross Earnings')"
      ]
     },
     "execution_count": 14,
     "metadata": {},
     "output_type": "execute_result"
    },
    {
     "data": {
      "image/png": "[encoded data removed]",
      "text/plain": [
       "<Figure size 864x576 with 1 Axes>"
      ]
     },
     "metadata": {
      "needs_background": "light"
     },
     "output_type": "display_data"
    }
   ],
   "source": [
    "plt= top_gross_movies.Net_gross_millions.hist(figsize=(12,8), bins= 50, range = [0,1000])\n",
    "plt.set_ylabel(\"Number of Films\")\n",
    "plt.set_xlabel(\"Net Gross Earnings by Millions\")\n",
    "plt.set_title(\"Distribution of Films by Total Net Gross Earnings\")"
   ]
  },
  {
   "cell_type": "markdown",
   "metadata": {},
   "source": [
    "I ran this plot gain understanding of the distribution.When looking at the distribution of films by total net gross, we can see that the distribution is positively skewed. A majority of the films fall between 0 and 200 million dollars for total net gross earnings. "
   ]
  },
  {
   "cell_type": "markdown",
   "metadata": {},
   "source": [
    "Now that the top grossing movies has been cleaned, next I plan to look into the IMDB dataset and merge this data set with the top grossing movies to get a combined data set with production budget, worldwide gross, net gross, run time and genres. \n"
   ]
  },
  {
   "cell_type": "code",
   "execution_count": 15,
   "metadata": {},
   "outputs": [],
   "source": [
    "#dropping nulls and renaming title to movie to merge with top grossing movies df\n",
    "imdb_movies= imdb_movies.dropna()\n",
    "imdb_movies= imdb_movies.rename(columns= {\"title\": \"movie\"})"
   ]
  },
  {
   "cell_type": "markdown",
   "metadata": {},
   "source": [
    "With the IMDB dataframe obtained earlier, I used .dropna() to remove any null values. Then using .rename(), I renamed the column name \"title\" to \"movie\". This was done so that there would be a common column name (\"movie\") to merge the Numbers dataframe to the IMDB data frame. "
   ]
  },
  {
   "cell_type": "code",
   "execution_count": 16,
   "metadata": {},
   "outputs": [
    {
     "data": {
      "text/html": [
       "<div>\n",
       "<style scoped>\n",
       "    .dataframe tbody tr th:only-of-type {\n",
       "        vertical-align: middle;\n",
       "    }\n",
       "\n",
       "    .dataframe tbody tr th {\n",
       "        vertical-align: top;\n",
       "    }\n",
       "\n",
       "    .dataframe thead th {\n",
       "        text-align: right;\n",
       "    }\n",
       "</style>\n",
       "<table border=\"1\" class=\"dataframe\">\n",
       "  <thead>\n",
       "    <tr style=\"text-align: right;\">\n",
       "      <th></th>\n",
       "      <th>id</th>\n",
       "      <th>release_date</th>\n",
       "      <th>movie</th>\n",
       "      <th>production_budget</th>\n",
       "      <th>domestic_gross</th>\n",
       "      <th>worldwide_gross</th>\n",
       "      <th>Net_Gross</th>\n",
       "      <th>budget_millions</th>\n",
       "      <th>Net_gross_millions</th>\n",
       "      <th>movie_id</th>\n",
       "      <th>runtime_minutes</th>\n",
       "      <th>genres</th>\n",
       "      <th>averagerating</th>\n",
       "      <th>numvotes</th>\n",
       "      <th>is_original_title</th>\n",
       "    </tr>\n",
       "  </thead>\n",
       "  <tbody>\n",
       "    <tr>\n",
       "      <th>0</th>\n",
       "      <td>1</td>\n",
       "      <td>Dec 18, 2009</td>\n",
       "      <td>Avatar</td>\n",
       "      <td>425000000</td>\n",
       "      <td>760507625</td>\n",
       "      <td>2776345279</td>\n",
       "      <td>2351345279</td>\n",
       "      <td>425.0</td>\n",
       "      <td>2351.345279</td>\n",
       "      <td>NaN</td>\n",
       "      <td>NaN</td>\n",
       "      <td>NaN</td>\n",
       "      <td>NaN</td>\n",
       "      <td>NaN</td>\n",
       "      <td>NaN</td>\n",
       "    </tr>\n",
       "    <tr>\n",
       "      <th>1</th>\n",
       "      <td>43</td>\n",
       "      <td>Dec 19, 1997</td>\n",
       "      <td>Titanic</td>\n",
       "      <td>200000000</td>\n",
       "      <td>659363944</td>\n",
       "      <td>2208208395</td>\n",
       "      <td>2008208395</td>\n",
       "      <td>200.0</td>\n",
       "      <td>2008.208395</td>\n",
       "      <td>NaN</td>\n",
       "      <td>NaN</td>\n",
       "      <td>NaN</td>\n",
       "      <td>NaN</td>\n",
       "      <td>NaN</td>\n",
       "      <td>NaN</td>\n",
       "    </tr>\n",
       "    <tr>\n",
       "      <th>2</th>\n",
       "      <td>7</td>\n",
       "      <td>Apr 27, 2018</td>\n",
       "      <td>Avengers: Infinity War</td>\n",
       "      <td>300000000</td>\n",
       "      <td>678815482</td>\n",
       "      <td>2048134200</td>\n",
       "      <td>1748134200</td>\n",
       "      <td>300.0</td>\n",
       "      <td>1748.134200</td>\n",
       "      <td>tt4154756</td>\n",
       "      <td>149.0</td>\n",
       "      <td>Action,Adventure,Sci-Fi</td>\n",
       "      <td>8.5</td>\n",
       "      <td>670926.0</td>\n",
       "      <td>1.0</td>\n",
       "    </tr>\n",
       "    <tr>\n",
       "      <th>3</th>\n",
       "      <td>6</td>\n",
       "      <td>Dec 18, 2015</td>\n",
       "      <td>Star Wars Ep. VII: The Force Awakens</td>\n",
       "      <td>306000000</td>\n",
       "      <td>936662225</td>\n",
       "      <td>2053311220</td>\n",
       "      <td>1747311220</td>\n",
       "      <td>306.0</td>\n",
       "      <td>1747.311220</td>\n",
       "      <td>NaN</td>\n",
       "      <td>NaN</td>\n",
       "      <td>NaN</td>\n",
       "      <td>NaN</td>\n",
       "      <td>NaN</td>\n",
       "      <td>NaN</td>\n",
       "    </tr>\n",
       "    <tr>\n",
       "      <th>4</th>\n",
       "      <td>34</td>\n",
       "      <td>Jun 12, 2015</td>\n",
       "      <td>Jurassic World</td>\n",
       "      <td>215000000</td>\n",
       "      <td>652270625</td>\n",
       "      <td>1648854864</td>\n",
       "      <td>1433854864</td>\n",
       "      <td>215.0</td>\n",
       "      <td>1433.854864</td>\n",
       "      <td>tt0369610</td>\n",
       "      <td>124.0</td>\n",
       "      <td>Action,Adventure,Sci-Fi</td>\n",
       "      <td>7.0</td>\n",
       "      <td>539338.0</td>\n",
       "      <td>1.0</td>\n",
       "    </tr>\n",
       "    <tr>\n",
       "      <th>5</th>\n",
       "      <td>67</td>\n",
       "      <td>Apr 3, 2015</td>\n",
       "      <td>Furious 7</td>\n",
       "      <td>190000000</td>\n",
       "      <td>353007020</td>\n",
       "      <td>1518722794</td>\n",
       "      <td>1328722794</td>\n",
       "      <td>190.0</td>\n",
       "      <td>1328.722794</td>\n",
       "      <td>NaN</td>\n",
       "      <td>NaN</td>\n",
       "      <td>NaN</td>\n",
       "      <td>NaN</td>\n",
       "      <td>NaN</td>\n",
       "      <td>NaN</td>\n",
       "    </tr>\n",
       "    <tr>\n",
       "      <th>6</th>\n",
       "      <td>27</td>\n",
       "      <td>May 4, 2012</td>\n",
       "      <td>The Avengers</td>\n",
       "      <td>225000000</td>\n",
       "      <td>623279547</td>\n",
       "      <td>1517935897</td>\n",
       "      <td>1292935897</td>\n",
       "      <td>225.0</td>\n",
       "      <td>1292.935897</td>\n",
       "      <td>tt0848228</td>\n",
       "      <td>143.0</td>\n",
       "      <td>Action,Adventure,Sci-Fi</td>\n",
       "      <td>8.1</td>\n",
       "      <td>1183655.0</td>\n",
       "      <td>1.0</td>\n",
       "    </tr>\n",
       "    <tr>\n",
       "      <th>7</th>\n",
       "      <td>61</td>\n",
       "      <td>Jul 15, 2011</td>\n",
       "      <td>Harry Potter and the Deathly Hallows: Part II</td>\n",
       "      <td>125000000</td>\n",
       "      <td>381193157</td>\n",
       "      <td>1341693157</td>\n",
       "      <td>1216693157</td>\n",
       "      <td>125.0</td>\n",
       "      <td>1216.693157</td>\n",
       "      <td>NaN</td>\n",
       "      <td>NaN</td>\n",
       "      <td>NaN</td>\n",
       "      <td>NaN</td>\n",
       "      <td>NaN</td>\n",
       "      <td>NaN</td>\n",
       "    </tr>\n",
       "    <tr>\n",
       "      <th>8</th>\n",
       "      <td>42</td>\n",
       "      <td>Feb 16, 2018</td>\n",
       "      <td>Black Panther</td>\n",
       "      <td>200000000</td>\n",
       "      <td>700059566</td>\n",
       "      <td>1348258224</td>\n",
       "      <td>1148258224</td>\n",
       "      <td>200.0</td>\n",
       "      <td>1148.258224</td>\n",
       "      <td>tt1825683</td>\n",
       "      <td>134.0</td>\n",
       "      <td>Action,Adventure,Sci-Fi</td>\n",
       "      <td>7.3</td>\n",
       "      <td>516148.0</td>\n",
       "      <td>1.0</td>\n",
       "    </tr>\n",
       "    <tr>\n",
       "      <th>9</th>\n",
       "      <td>13</td>\n",
       "      <td>Jun 22, 2018</td>\n",
       "      <td>Jurassic World: Fallen Kingdom</td>\n",
       "      <td>170000000</td>\n",
       "      <td>417719760</td>\n",
       "      <td>1305772799</td>\n",
       "      <td>1135772799</td>\n",
       "      <td>170.0</td>\n",
       "      <td>1135.772799</td>\n",
       "      <td>tt4881806</td>\n",
       "      <td>128.0</td>\n",
       "      <td>Action,Adventure,Sci-Fi</td>\n",
       "      <td>6.2</td>\n",
       "      <td>219125.0</td>\n",
       "      <td>1.0</td>\n",
       "    </tr>\n",
       "  </tbody>\n",
       "</table>\n",
       "</div>"
      ],
      "text/plain": [
       "   id  release_date                                          movie  \\\n",
       "0   1  Dec 18, 2009                                         Avatar   \n",
       "1  43  Dec 19, 1997                                        Titanic   \n",
       "2   7  Apr 27, 2018                         Avengers: Infinity War   \n",
       "3   6  Dec 18, 2015           Star Wars Ep. VII: The Force Awakens   \n",
       "4  34  Jun 12, 2015                                 Jurassic World   \n",
       "5  67   Apr 3, 2015                                      Furious 7   \n",
       "6  27   May 4, 2012                                   The Avengers   \n",
       "7  61  Jul 15, 2011  Harry Potter and the Deathly Hallows: Part II   \n",
       "8  42  Feb 16, 2018                                  Black Panther   \n",
       "9  13  Jun 22, 2018                 Jurassic World: Fallen Kingdom   \n",
       "\n",
       "   production_budget  domestic_gross  worldwide_gross   Net_Gross  \\\n",
       "0          425000000       760507625       2776345279  2351345279   \n",
       "1          200000000       659363944       2208208395  2008208395   \n",
       "2          300000000       678815482       2048134200  1748134200   \n",
       "3          306000000       936662225       2053311220  1747311220   \n",
       "4          215000000       652270625       1648854864  1433854864   \n",
       "5          190000000       353007020       1518722794  1328722794   \n",
       "6          225000000       623279547       1517935897  1292935897   \n",
       "7          125000000       381193157       1341693157  1216693157   \n",
       "8          200000000       700059566       1348258224  1148258224   \n",
       "9          170000000       417719760       1305772799  1135772799   \n",
       "\n",
       "   budget_millions  Net_gross_millions   movie_id  runtime_minutes  \\\n",
       "0            425.0         2351.345279        NaN              NaN   \n",
       "1            200.0         2008.208395        NaN              NaN   \n",
       "2            300.0         1748.134200  tt4154756            149.0   \n",
       "3            306.0         1747.311220        NaN              NaN   \n",
       "4            215.0         1433.854864  tt0369610            124.0   \n",
       "5            190.0         1328.722794        NaN              NaN   \n",
       "6            225.0         1292.935897  tt0848228            143.0   \n",
       "7            125.0         1216.693157        NaN              NaN   \n",
       "8            200.0         1148.258224  tt1825683            134.0   \n",
       "9            170.0         1135.772799  tt4881806            128.0   \n",
       "\n",
       "                    genres  averagerating   numvotes  is_original_title  \n",
       "0                      NaN            NaN        NaN                NaN  \n",
       "1                      NaN            NaN        NaN                NaN  \n",
       "2  Action,Adventure,Sci-Fi            8.5   670926.0                1.0  \n",
       "3                      NaN            NaN        NaN                NaN  \n",
       "4  Action,Adventure,Sci-Fi            7.0   539338.0                1.0  \n",
       "5                      NaN            NaN        NaN                NaN  \n",
       "6  Action,Adventure,Sci-Fi            8.1  1183655.0                1.0  \n",
       "7                      NaN            NaN        NaN                NaN  \n",
       "8  Action,Adventure,Sci-Fi            7.3   516148.0                1.0  \n",
       "9  Action,Adventure,Sci-Fi            6.2   219125.0                1.0  "
      ]
     },
     "execution_count": 16,
     "metadata": {},
     "output_type": "execute_result"
    }
   ],
   "source": [
    "#merging dataframes\n",
    "top_movies_all = pd.merge(top_gross_movies, imdb_movies, how = \"left\", on= [\"movie\"])\n",
    "top_movies_all.head(10)"
   ]
  },
  {
   "cell_type": "markdown",
   "metadata": {},
   "source": [
    "I have merged the Numbers and the IMDB dataframes using a left join on the column \"movie\". "
   ]
  },
  {
   "cell_type": "code",
   "execution_count": 17,
   "metadata": {},
   "outputs": [
    {
     "name": "stdout",
     "output_type": "stream",
     "text": [
      "<class 'pandas.core.frame.DataFrame'>\n",
      "Int64Index: 5366 entries, 0 to 5365\n",
      "Data columns (total 15 columns):\n",
      " #   Column              Non-Null Count  Dtype  \n",
      "---  ------              --------------  -----  \n",
      " 0   id                  5366 non-null   int64  \n",
      " 1   release_date        5366 non-null   object \n",
      " 2   movie               5366 non-null   object \n",
      " 3   production_budget   5366 non-null   int64  \n",
      " 4   domestic_gross      5366 non-null   int64  \n",
      " 5   worldwide_gross     5366 non-null   int64  \n",
      " 6   Net_Gross           5366 non-null   int64  \n",
      " 7   budget_millions     5366 non-null   float64\n",
      " 8   Net_gross_millions  5366 non-null   float64\n",
      " 9   movie_id            1801 non-null   object \n",
      " 10  runtime_minutes     1801 non-null   float64\n",
      " 11  genres              1801 non-null   object \n",
      " 12  averagerating       1801 non-null   float64\n",
      " 13  numvotes            1801 non-null   float64\n",
      " 14  is_original_title   1801 non-null   float64\n",
      "dtypes: float64(6), int64(5), object(4)\n",
      "memory usage: 670.8+ KB\n"
     ]
    }
   ],
   "source": [
    "#Checking info \n",
    "top_movies_all.info()"
   ]
  },
  {
   "cell_type": "markdown",
   "metadata": {},
   "source": [
    "Now that the data sets have been merged, there are 5366 entries however only 1801 have identified runtimes and genres. Will need to further clean this data set to get working data set for run time and genre analyis. Will need to drop any duplicate values and drop any null values. "
   ]
  },
  {
   "cell_type": "code",
   "execution_count": 18,
   "metadata": {},
   "outputs": [
    {
     "name": "stdout",
     "output_type": "stream",
     "text": [
      "<class 'pandas.core.frame.DataFrame'>\n",
      "Int64Index: 1619 entries, 2 to 5365\n",
      "Data columns (total 15 columns):\n",
      " #   Column              Non-Null Count  Dtype  \n",
      "---  ------              --------------  -----  \n",
      " 0   id                  1619 non-null   int64  \n",
      " 1   release_date        1619 non-null   object \n",
      " 2   movie               1619 non-null   object \n",
      " 3   production_budget   1619 non-null   int64  \n",
      " 4   domestic_gross      1619 non-null   int64  \n",
      " 5   worldwide_gross     1619 non-null   int64  \n",
      " 6   Net_Gross           1619 non-null   int64  \n",
      " 7   budget_millions     1619 non-null   float64\n",
      " 8   Net_gross_millions  1619 non-null   float64\n",
      " 9   movie_id            1619 non-null   object \n",
      " 10  runtime_minutes     1619 non-null   float64\n",
      " 11  genres              1619 non-null   object \n",
      " 12  averagerating       1619 non-null   float64\n",
      " 13  numvotes            1619 non-null   float64\n",
      " 14  is_original_title   1619 non-null   float64\n",
      "dtypes: float64(6), int64(5), object(4)\n",
      "memory usage: 202.4+ KB\n"
     ]
    }
   ],
   "source": [
    "#dropping any duplicate movies and also dropping NaNs\n",
    "top_movies_all= top_movies_all.drop_duplicates(subset= ['movie'])\n",
    "top_movies_dropped_null= top_movies_all.dropna()\n",
    "top_movies_dropped_null.info()"
   ]
  },
  {
   "cell_type": "markdown",
   "metadata": {},
   "source": [
    "By dropping duplicates and any null values, that leaves the data set with 1619 entries containing all variables of interest. "
   ]
  },
  {
   "cell_type": "code",
   "execution_count": 19,
   "metadata": {},
   "outputs": [
    {
     "data": {
      "text/plain": [
       "Text(0.5, 1.0, 'Distribution of Films by Total Net Gross Earnings')"
      ]
     },
     "execution_count": 19,
     "metadata": {},
     "output_type": "execute_result"
    },
    {
     "data": {
      "image/png": "[encoded data removed]",
      "text/plain": [
       "<Figure size 864x576 with 1 Axes>"
      ]
     },
     "metadata": {
      "needs_background": "light"
     },
     "output_type": "display_data"
    }
   ],
   "source": [
    "plt= top_movies_dropped_null.Net_gross_millions.hist(figsize=(12,8), bins= 50, range = [0,1000])\n",
    "plt.set_ylabel(\"Number of Films\")\n",
    "plt.set_xlabel(\"Net Gross Earnings by Millions\")\n",
    "plt.set_title(\"Distribution of Films by Total Net Gross Earnings\")\n"
   ]
  },
  {
   "cell_type": "markdown",
   "metadata": {},
   "source": [
    "I ran this plot to gain understanding of the distribution of the new merged data set. Looking at the distribution of this smaller data set, it seems to also be positively skewed with most films falling between 0 to 200 million dollars in total net gross earnings. "
   ]
  },
  {
   "cell_type": "code",
   "execution_count": 20,
   "metadata": {},
   "outputs": [
    {
     "data": {
      "text/plain": [
       "Text(0.5, 1.0, 'Distribution of Films by Runtime')"
      ]
     },
     "execution_count": 20,
     "metadata": {},
     "output_type": "execute_result"
    },
    {
     "data": {
      "image/png": "[encoded data removed]",
      "text/plain": [
       "<Figure size 864x576 with 1 Axes>"
      ]
     },
     "metadata": {
      "needs_background": "light"
     },
     "output_type": "display_data"
    }
   ],
   "source": [
    "plt= top_movies_dropped_null.runtime_minutes.hist(figsize=(12,8), bins= 30, range = [0,200])\n",
    "plt.set_ylabel(\"Number of Films\")\n",
    "plt.set_xlabel(\"Runtime Minutes\")\n",
    "plt.set_title(\"Distribution of Films by Runtime\")"
   ]
  },
  {
   "cell_type": "markdown",
   "metadata": {},
   "source": [
    "I ran this plot to look at the distribution of runtimes. The distribution of runtimes seems to show that most film runtimes fall between the range of just below 100 minutes to a little above 100 minutes. Using descriptive analysis we see that the mean runtime is 107 minutes. "
   ]
  },
  {
   "cell_type": "markdown",
   "metadata": {},
   "source": [
    "# Data Analysis "
   ]
  },
  {
   "cell_type": "markdown",
   "metadata": {},
   "source": [
    "## Production Budget Analysis"
   ]
  },
  {
   "cell_type": "code",
   "execution_count": 24,
   "metadata": {},
   "outputs": [
    {
     "name": "stderr",
     "output_type": "stream",
     "text": [
      "<ipython-input-24-f6a0602c6187>:3: SettingWithCopyWarning: \n",
      "A value is trying to be set on a copy of a slice from a DataFrame.\n",
      "Try using .loc[row_indexer,col_indexer] = value instead\n",
      "\n",
      "See the caveats in the documentation: https://pandas.pydata.org/pandas-docs/stable/user_guide/indexing.html#returning-a-view-versus-a-copy\n",
      "  top10_movies_gross['movie']= top10_movies_gross['movie'].replace({'Harry Potter and the Deathly Hallows: Part II': 'Harry Potter: Deathly Hallows II'})\n"
     ]
    },
    {
     "data": {
      "text/plain": [
       "Text(0.5, 1.0, 'Top 10 Highest Net Grossing Movies')"
      ]
     },
     "execution_count": 24,
     "metadata": {},
     "output_type": "execute_result"
    },
    {
     "data": {
      "image/png": "[encoded data removed]",
      "text/plain": [
       "<Figure size 576x576 with 1 Axes>"
      ]
     },
     "metadata": {},
     "output_type": "display_data"
    }
   ],
   "source": [
    "sns.set()\n",
    "top10_movies_gross = top_gross_movies.head(10)\n",
    "top10_movies_gross['movie']= top10_movies_gross['movie'].replace({'Harry Potter and the Deathly Hallows: Part II': 'Harry Potter: Deathly Hallows II'})\n",
    "\n",
    "top10_movies_gross.plot(\n",
    "    x=\"movie\", y=[\"Net_gross_millions\", \"budget_millions\"], kind=\"bar\", figsize= (8,8))\n",
    "\n",
    "plt.set_xlabel(\"Movie Title\")\n",
    "plt.set_ylabel(\"$ Amount in Millions\")\n",
    "plt.legend([\"Net Gross Earnings\", \"Production Budget\"])\n",
    "plt.set_title(\"Top 10 Highest Net Grossing Movies\")\n",
    "#plt.show()\n",
    "#plt.savefig('Images/top_10_gross', bbox_inches=\"tight\")"
   ]
  },
  {
   "cell_type": "markdown",
   "metadata": {},
   "source": [
    "Using a bar chart, I have plotted the top 10 highest net grossing movies with the plot showing the value for total net gross along side the films production budget. I also renamed and shortened the movie title of Harry Potter and the Deathly Hallows II for aesthetic purposes. "
   ]
  },
  {
   "cell_type": "code",
   "execution_count": 25,
   "metadata": {},
   "outputs": [
    {
     "data": {
      "text/plain": [
       "0.605544253487369"
      ]
     },
     "execution_count": 25,
     "metadata": {},
     "output_type": "execute_result"
    }
   ],
   "source": [
    "#checking correlation between movie budget and net gross\n",
    "top_gross_movies[\"production_budget\"].corr(top_gross_movies[\"Net_Gross\"])"
   ]
  },
  {
   "cell_type": "markdown",
   "metadata": {},
   "source": [
    "Looking at the data and correlations it seems that production budget does have a positive association with overall net gross earnings. "
   ]
  },
  {
   "cell_type": "code",
   "execution_count": 26,
   "metadata": {},
   "outputs": [
    {
     "data": {
      "text/html": [
       "<div>\n",
       "<style scoped>\n",
       "    .dataframe tbody tr th:only-of-type {\n",
       "        vertical-align: middle;\n",
       "    }\n",
       "\n",
       "    .dataframe tbody tr th {\n",
       "        vertical-align: top;\n",
       "    }\n",
       "\n",
       "    .dataframe thead th {\n",
       "        text-align: right;\n",
       "    }\n",
       "</style>\n",
       "<table border=\"1\" class=\"dataframe\">\n",
       "  <thead>\n",
       "    <tr style=\"text-align: right;\">\n",
       "      <th></th>\n",
       "      <th>count</th>\n",
       "      <th>mean</th>\n",
       "      <th>std</th>\n",
       "      <th>min</th>\n",
       "      <th>25%</th>\n",
       "      <th>50%</th>\n",
       "      <th>75%</th>\n",
       "      <th>max</th>\n",
       "    </tr>\n",
       "  </thead>\n",
       "  <tbody>\n",
       "    <tr>\n",
       "      <th>id</th>\n",
       "      <td>5234.0</td>\n",
       "      <td>5.034658e+01</td>\n",
       "      <td>2.884867e+01</td>\n",
       "      <td>1.000000e+00</td>\n",
       "      <td>2.500000e+01</td>\n",
       "      <td>5.000000e+01</td>\n",
       "      <td>7.500000e+01</td>\n",
       "      <td>1.000000e+02</td>\n",
       "    </tr>\n",
       "    <tr>\n",
       "      <th>production_budget</th>\n",
       "      <td>5234.0</td>\n",
       "      <td>3.403348e+07</td>\n",
       "      <td>4.296048e+07</td>\n",
       "      <td>1.100000e+03</td>\n",
       "      <td>6.500000e+06</td>\n",
       "      <td>2.000000e+07</td>\n",
       "      <td>4.500000e+07</td>\n",
       "      <td>4.250000e+08</td>\n",
       "    </tr>\n",
       "    <tr>\n",
       "      <th>domestic_gross</th>\n",
       "      <td>5234.0</td>\n",
       "      <td>4.625747e+07</td>\n",
       "      <td>7.029651e+07</td>\n",
       "      <td>3.880000e+02</td>\n",
       "      <td>4.289718e+06</td>\n",
       "      <td>2.198422e+07</td>\n",
       "      <td>5.756598e+07</td>\n",
       "      <td>9.366622e+08</td>\n",
       "    </tr>\n",
       "    <tr>\n",
       "      <th>worldwide_gross</th>\n",
       "      <td>5234.0</td>\n",
       "      <td>1.007615e+08</td>\n",
       "      <td>1.811226e+08</td>\n",
       "      <td>4.010000e+02</td>\n",
       "      <td>8.142571e+06</td>\n",
       "      <td>3.543844e+07</td>\n",
       "      <td>1.093357e+08</td>\n",
       "      <td>2.776345e+09</td>\n",
       "    </tr>\n",
       "    <tr>\n",
       "      <th>Net_Gross</th>\n",
       "      <td>5234.0</td>\n",
       "      <td>6.672803e+07</td>\n",
       "      <td>1.518522e+08</td>\n",
       "      <td>-2.002376e+08</td>\n",
       "      <td>-1.396634e+06</td>\n",
       "      <td>1.357260e+07</td>\n",
       "      <td>7.088258e+07</td>\n",
       "      <td>2.351345e+09</td>\n",
       "    </tr>\n",
       "    <tr>\n",
       "      <th>budget_millions</th>\n",
       "      <td>5234.0</td>\n",
       "      <td>3.403348e+01</td>\n",
       "      <td>4.296048e+01</td>\n",
       "      <td>1.100000e-03</td>\n",
       "      <td>6.500000e+00</td>\n",
       "      <td>2.000000e+01</td>\n",
       "      <td>4.500000e+01</td>\n",
       "      <td>4.250000e+02</td>\n",
       "    </tr>\n",
       "    <tr>\n",
       "      <th>Net_gross_millions</th>\n",
       "      <td>5234.0</td>\n",
       "      <td>6.672803e+01</td>\n",
       "      <td>1.518522e+02</td>\n",
       "      <td>-2.002377e+02</td>\n",
       "      <td>-1.396634e+00</td>\n",
       "      <td>1.357260e+01</td>\n",
       "      <td>7.088258e+01</td>\n",
       "      <td>2.351345e+03</td>\n",
       "    </tr>\n",
       "  </tbody>\n",
       "</table>\n",
       "</div>"
      ],
      "text/plain": [
       "                     count          mean           std           min  \\\n",
       "id                  5234.0  5.034658e+01  2.884867e+01  1.000000e+00   \n",
       "production_budget   5234.0  3.403348e+07  4.296048e+07  1.100000e+03   \n",
       "domestic_gross      5234.0  4.625747e+07  7.029651e+07  3.880000e+02   \n",
       "worldwide_gross     5234.0  1.007615e+08  1.811226e+08  4.010000e+02   \n",
       "Net_Gross           5234.0  6.672803e+07  1.518522e+08 -2.002376e+08   \n",
       "budget_millions     5234.0  3.403348e+01  4.296048e+01  1.100000e-03   \n",
       "Net_gross_millions  5234.0  6.672803e+01  1.518522e+02 -2.002377e+02   \n",
       "\n",
       "                             25%           50%           75%           max  \n",
       "id                  2.500000e+01  5.000000e+01  7.500000e+01  1.000000e+02  \n",
       "production_budget   6.500000e+06  2.000000e+07  4.500000e+07  4.250000e+08  \n",
       "domestic_gross      4.289718e+06  2.198422e+07  5.756598e+07  9.366622e+08  \n",
       "worldwide_gross     8.142571e+06  3.543844e+07  1.093357e+08  2.776345e+09  \n",
       "Net_Gross          -1.396634e+06  1.357260e+07  7.088258e+07  2.351345e+09  \n",
       "budget_millions     6.500000e+00  2.000000e+01  4.500000e+01  4.250000e+02  \n",
       "Net_gross_millions -1.396634e+00  1.357260e+01  7.088258e+01  2.351345e+03  "
      ]
     },
     "execution_count": 26,
     "metadata": {},
     "output_type": "execute_result"
    }
   ],
   "source": [
    "#getting statistic calculations\n",
    "top_gross_movies.describe().T"
   ]
  },
  {
   "cell_type": "markdown",
   "metadata": {},
   "source": [
    "I utilized .describe() to obtain analytics such as mean and median for budget and net gross. "
   ]
  },
  {
   "cell_type": "code",
   "execution_count": 27,
   "metadata": {},
   "outputs": [
    {
     "name": "stdout",
     "output_type": "stream",
     "text": [
      "34.03348004948414\n",
      "66.72802610546427\n"
     ]
    }
   ],
   "source": [
    "#finding out the average production budget for films in millions\n",
    "print((top_gross_movies[\"production_budget\"].mean())/1000000)\n",
    "\n",
    "#finding avg net gross for films in millions\n",
    "print((top_gross_movies[\"Net_Gross\"].mean())/1000000)"
   ]
  },
  {
   "cell_type": "markdown",
   "metadata": {},
   "source": [
    "I calculated the mean production budget and mean net gross in millions by using .mean() and dividing this value by 1,000,000. "
   ]
  },
  {
   "cell_type": "code",
   "execution_count": 28,
   "metadata": {},
   "outputs": [
    {
     "name": "stdout",
     "output_type": "stream",
     "text": [
      "159.522\n",
      "850.39601654\n"
     ]
    }
   ],
   "source": [
    "#finding budget for top 100 grossing films in millions\n",
    "top100_gross_movies = top_gross_movies.head(100)\n",
    "print((top100_gross_movies[\"production_budget\"].mean())/1000000)\n",
    "\n",
    "#finding avg net gross for top 100 grossing films in millions\n",
    "print((top100_gross_movies[\"Net_Gross\"].mean())/1000000)"
   ]
  },
  {
   "cell_type": "markdown",
   "metadata": {},
   "source": [
    "I wanted to find the mean production budget and mean net gross for the top 100 highest grossing films in millions, so I first used .head(100) on the dataframe and set this to a new dataframe. Then I calculated the means by also using .mean() and dividing this value by 1,000,000."
   ]
  },
  {
   "cell_type": "markdown",
   "metadata": {},
   "source": [
    "When it comes average production budget vs average net gross, the average production budget for a film is roughly 34 million dollars and the average net gross earnings is 66 million dollars. The median production budget is roughly 20 million dollars while the median net gross is ~15 million. Looking at the top 100 grossing movies, the average production budget for those films is roughly 159-160 million dollars and the average net gross earnings is 850 million dollars. While the average production budget of 34 million can return a profit, if looking for a higher net gross profit I would recommend planning for a budget near 160 million dollars. "
   ]
  },
  {
   "cell_type": "markdown",
   "metadata": {},
   "source": [
    "## Runtime "
   ]
  },
  {
   "cell_type": "code",
   "execution_count": 37,
   "metadata": {},
   "outputs": [
    {
     "data": {
      "text/plain": [
       "Text(0.5, 1.0, 'Runtime and Net Gross Per Movie')"
      ]
     },
     "execution_count": 37,
     "metadata": {},
     "output_type": "execute_result"
    },
    {
     "data": {
      "image/png": "[encoded data removed]",
      "text/plain": [
       "<Figure size 720x720 with 1 Axes>"
      ]
     },
     "metadata": {},
     "output_type": "display_data"
    }
   ],
   "source": [
    "#bar graph of the top 20 grossing movies and runtime\n",
    "top20_movies_runtime= top_movies_dropped_null.head(20)\n",
    "top20_movies_runtime.plot(\n",
    "    x=\"movie\", y=\"runtime_minutes\", kind=\"bar\", figsize = (10,10))\n",
    "plt.set_xlabel(\"Runtimes of the Top 20 Movies\")\n",
    "plt.set_ylabel(\"Time in Minutes\")\n",
    "plt.legend([\"Runtime_minutes\"])\n",
    "plt.set_title(\"Runtime and Net Gross Per Movie\")\n",
    "#plt.show()\n",
    "#plt.savefig('Images/top_20_runtime')"
   ]
  },
  {
   "cell_type": "markdown",
   "metadata": {},
   "source": [
    "Using the cleaned and merged dataframe, I plotted the runtimes of the top 20 highest grossing movies to get a visual on the runtimes. These seemed to vary greatly from movie to movie. "
   ]
  },
  {
   "cell_type": "code",
   "execution_count": null,
   "metadata": {},
   "outputs": [],
   "source": [
    "#scatter plot \n",
    "top_movies_dropped_null.plot(\n",
    "    x=\"runtime_minutes\", y= \"Net_gross_millions\", kind=\"scatter\", figsize = (10,10))\n",
    "#plt.savefig('Images/runtime_scatter',  bbox_inches=\"tight\")"
   ]
  },
  {
   "cell_type": "code",
   "execution_count": null,
   "metadata": {},
   "outputs": [],
   "source": [
    "#running correlation of runtime to net gross\n",
    "top_movies_dropped_null[\"runtime_minutes\"].corr(top_movies_dropped_null[\"Net_Gross\"])"
   ]
  },
  {
   "cell_type": "markdown",
   "metadata": {},
   "source": [
    "I ran a scatter plot to view the spread of the runtimes of the whole dataset. To add more analysis, I ran a correlation calculation to view the correlation value runtime and net gross. The correlation value of 0.2572 shows that there is a positive correlation, however it is a weak correlation. "
   ]
  },
  {
   "cell_type": "code",
   "execution_count": null,
   "metadata": {},
   "outputs": [],
   "source": [
    "#Need to calculate average runtime and average gross to give recs\n",
    "top100_movies_rt= top_movies_dropped_null.head(100)\n",
    "print(\"Overall, the average runtime for a movie is\", \n",
    "      round(top_movies_dropped_null[\"runtime_minutes\"].mean()),\n",
    "      \"minutes.\")\n",
    "print(\"When looking at the top 100 highest net grossing movies, the average runtime is\", \n",
    "      round(top100_movies_rt[\"runtime_minutes\"].mean()),\n",
    "      \"minutes.\")\n",
    "print(\"If we look even closer at the top 20, the average runtime is\", \n",
    "      round(top20_movies_runtime[\"runtime_minutes\"].mean()),\n",
    "      \"minutes.\")"
   ]
  },
  {
   "cell_type": "markdown",
   "metadata": {},
   "source": [
    "Overall there is a slight posivtive correlation with runtime and net gross earning, however the correlation is weak. The average runtime for a movie is around 107 minutes, but if we look at the top net grossing movies, runtime average is between 120-130 minutes. For this reason, when considering runtime, I would recommend a runtime of around 120-130 minutes. "
   ]
  },
  {
   "cell_type": "markdown",
   "metadata": {},
   "source": [
    "## Genre Analysis"
   ]
  },
  {
   "cell_type": "markdown",
   "metadata": {},
   "source": [
    "Each movie has between 1 to 3 genres listed in their genre value. I plan to split the genre into 3 columns (genre1, genre2, genre3). Then I will create 3 different dataframes with each containing only one genre column. Then I will concatenate all 3 dataframes to combine the genre columns which will create 1 dataframe with 1 genre column having only 1 genre listed per entry. "
   ]
  },
  {
   "cell_type": "code",
   "execution_count": null,
   "metadata": {},
   "outputs": [],
   "source": [
    "# Each movie has 1 up to 3 genres listed \n",
    "# Need to separate out genres \n",
    "top_movies_dropped_null[['genre1', 'genre2', 'genre3']] = top_movies_dropped_null[\"genres\"].apply(lambda x: pd.Series(str(x).split(\",\")))\n",
    "top_movies_dropped_null.head()\n"
   ]
  },
  {
   "cell_type": "markdown",
   "metadata": {},
   "source": [
    "Using .apply(), I used a lambda function to split up the genre values into 3 separate values while adding them into 3 separate columns. "
   ]
  },
  {
   "cell_type": "code",
   "execution_count": null,
   "metadata": {},
   "outputs": [],
   "source": [
    "#Made 3 dataframes with each genre column and then concatenated them \n",
    "#to make 1 dataframe with 1 genre column containing all genres \n",
    "\n",
    "genres1= top_movies_dropped_null.drop(columns=[\"genres\", \"genre2\",\"genre3\"])\n",
    "genres2= top_movies_dropped_null.drop(columns=[\"genres\", \"genre1\",\"genre3\"])\n",
    "genres3= top_movies_dropped_null.drop(columns=[\"genres\", \"genre1\",\"genre2\"])\n",
    "\n",
    "genres1= genres1.rename(columns = {\"genre1\":\"genre\"})\n",
    "genres2= genres2.rename(columns = {\"genre2\":\"genre\"})\n",
    "genres3= genres3.rename(columns = {\"genre3\":\"genre\"})\n",
    "\n",
    "genres_12= pd.concat([genres1, genres2])\n",
    "genres= pd.concat([genres_12, genres3])\n",
    "genres.head()"
   ]
  },
  {
   "cell_type": "markdown",
   "metadata": {},
   "source": [
    "With the genres separated into 3 different columns in the dataframe, I then copied this dataframe and created 3 new dataframes (genres1, genres2, genres3) from it. For the new genre dataframes, I dropped 2 genre columns from each of these leaving each one with a unique genre column. From there I concatenated all the genre dataframes into one main dataframe (genres)."
   ]
  },
  {
   "cell_type": "code",
   "execution_count": null,
   "metadata": {},
   "outputs": [],
   "source": [
    "#Dropping NaN and grouping by genre aggragting Net gross mean and max\n",
    "genres= genres.dropna()\n",
    "genres[\"Net_Gross\"]= genres[\"Net_Gross\"]/1000000\n",
    "genres_grouped= genres.groupby(\"genre\").agg({'Net_Gross': ['mean','max']})\n",
    "\n",
    "genres_grouped= genres_grouped.reset_index()\n",
    "genres_grouped.head(10)"
   ]
  },
  {
   "cell_type": "markdown",
   "metadata": {},
   "source": [
    "To further clean this dataframe, I dropped any NaN values. Next I grouped by genre and aggragated the net gross mean and max for each genre. "
   ]
  },
  {
   "cell_type": "code",
   "execution_count": null,
   "metadata": {},
   "outputs": [],
   "source": [
    "#sorting by Net Gross mean\n",
    "genres_grouped= genres_grouped.sort_values((\"Net_Gross\",\"mean\"), ascending= False)"
   ]
  },
  {
   "cell_type": "markdown",
   "metadata": {},
   "source": [
    "The genres grouped dataframe was then sorted by mean net gross. "
   ]
  },
  {
   "cell_type": "code",
   "execution_count": null,
   "metadata": {},
   "outputs": [],
   "source": [
    "#sorting separate for Net Gross max\n",
    "genres_grouped_max= genres_grouped.sort_values((\"Net_Gross\",\"max\"), ascending= False)"
   ]
  },
  {
   "cell_type": "markdown",
   "metadata": {},
   "source": [
    "I created a separate dataframe to sort genres by max net gross. "
   ]
  },
  {
   "cell_type": "code",
   "execution_count": null,
   "metadata": {},
   "outputs": [],
   "source": [
    "#plotting top 10 genres by average net gross\n",
    "genres_top10= genres_grouped.head(10)\n",
    "genres_top10.plot(\n",
    "    x= \"genre\", y=(\"Net_Gross\",\"mean\"), kind=\"bar\", figsize = (8,8))\n",
    "plt.xlabel(\"Average Top Grossing Genres\")\n",
    "plt.ylabel(\"Gross in Millions $\")\n",
    "plt.legend([\"Mean Gross\"])\n",
    "plt.title(\"Genres\")\n",
    "#plt.show()\n",
    "#plt.savefig('Images/top_10_genre')"
   ]
  },
  {
   "cell_type": "markdown",
   "metadata": {},
   "source": [
    "Animation has the highest average net gross along with Adventure and Sci-Fi being the next highest. "
   ]
  },
  {
   "cell_type": "code",
   "execution_count": null,
   "metadata": {},
   "outputs": [],
   "source": [
    "#plotting top 10 genres by average net gross vs which genre has max gross\n",
    "genres_top10= genres_grouped.head(10)\n",
    "genres_top10.plot(\n",
    "    x= \"genre\", y=(\"Net_Gross\"), kind=\"bar\", figsize = (10,10))\n",
    "plt.xlabel(\"Top Grossing Genres\")\n",
    "plt.ylabel(\"Gross in Millions $\")\n",
    "plt.legend([\"Mean Gross\",\"Max Gross\"])\n",
    "plt.title(\"Top Grossing Genres\")\n",
    "#plt.show()\n",
    "#plt.savefig('Images/top10_genre_mean_max')"
   ]
  },
  {
   "cell_type": "markdown",
   "metadata": {},
   "source": [
    "I ran this to plot each genre's average net gross compared with their highest max net gross. "
   ]
  },
  {
   "cell_type": "code",
   "execution_count": null,
   "metadata": {},
   "outputs": [],
   "source": [
    "#plotting top 10 highest grossing movies by genre\n",
    "genres_top10_max= genres_grouped_max.head(10)\n",
    "genres_top10_max.plot(\n",
    "    x= \"genre\", y=(\"Net_Gross\",\"max\"), kind=\"bar\", figsize = (10,10))\n",
    "plt.xlabel(\"Top Grossing Genres\")\n",
    "plt.ylabel(\"Gross in Millions $\")\n",
    "plt.legend([\"Max Gross\"])\n",
    "plt.title(\"Top Grossing Genres\")\n",
    "#plt.show()\n",
    "#plt.savefig('Images/top10_genre_max')"
   ]
  },
  {
   "cell_type": "markdown",
   "metadata": {},
   "source": [
    "Animation has the highest average net gross, however Sci-Fi, Adventure and Action genres have produced films with the single highest max net overall gross. "
   ]
  },
  {
   "cell_type": "markdown",
   "metadata": {},
   "source": [
    "## Conclusion/Recommendations for Microsoft\n",
    "\n",
    "When looking at Microsoft's problem, there different factors to consider from budget, runtime, genres and others that could be explored. As a starting point we can look at the 3 factors of budget, runtime and genre.\n",
    "\n",
    "Budget: \n",
    "- Microsoft should plan for a budget of 160 million for production of their films in order to maximize potential for high net gross earnings. While the average budget is around 34 million dollars and does tend to yield an average total net gross around 66-67 million, with a higher budget, there is the potential to produce a higher quality film which could yield a higher net gross. \n",
    "\n",
    "\n",
    "Runtime: \n",
    "- Microsoft should plan to produce films with a runtime between 120-130 minutes. The correlation is weak between runtime and films that produce the highest net gross earnings, however when looking at the top 100 higest net grossing films, the average runtime was between 120-130 minutes. The overall average runtime for all films was 107 minutes. Overall runtime may not be as important as other potential factors but may be important to consider modeling after the films with the highest net gross. \n",
    "\n",
    "\n",
    "Genres: \n",
    "- Microsoft should produce movies with the genres of Animation, Adventure, and Sci-Fi. Genres can have a big impact on performance at the box office and when looking at the data on genres; Animation, Adventures and Sci-Fi had the highest average net gross earnings across all films. "
   ]
  }
 ],
 "metadata": {
  "kernelspec": {
   "display_name": "Python 3",
   "language": "python",
   "name": "python3"
  },
  "language_info": {
   "codemirror_mode": {
    "name": "ipython",
    "version": 3
   },
   "file_extension": ".py",
   "mimetype": "text/x-python",
   "name": "python",
   "nbconvert_exporter": "python",
   "pygments_lexer": "ipython3",
   "version": "3.8.5"
  }
 },
 "nbformat": 4,
 "nbformat_minor": 2
}
