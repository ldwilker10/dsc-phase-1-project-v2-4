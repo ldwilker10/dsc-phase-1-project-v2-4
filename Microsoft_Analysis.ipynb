{
 "cells": [
  {
   "cell_type": "markdown",
   "metadata": {},
   "source": [
    "## Final Project Submission\n",
    "\n",
    "Please fill out:\n",
    "* Student name: Lucas Wilkerson\n",
    "* Student pace: Flex (self paced / part time)\n",
    "* Scheduled project review date/time: \n",
    "* Instructor name: Morgan Jones\n",
    "* Blog post URL:\n"
   ]
  },
  {
   "cell_type": "markdown",
   "metadata": {},
   "source": [
    "# Microsoft Movie Analysis "
   ]
  },
  {
   "cell_type": "markdown",
   "metadata": {},
   "source": [
    "## Overview\n",
    "(A one-paragraph overview of the project, including the business problem, data, methods, results and recommendations.)\n",
    "\n",
    "This project analyzes characteristics and factors of movies that are correlated to success at the box office to generate insights and recommendations for the stakeholder. Descriptive analysis of budget, gross earnings, genre and run time will be explored to see how these are related to movie success and return on investment. Microsoft stakeholders can use this analyis to decide what type of films to create and what budgets to plan for."
   ]
  },
  {
   "cell_type": "markdown",
   "metadata": {},
   "source": [
    "## Business Problem\n",
    "(Summary of the business problem you are trying to solve, and the data questions that you plan to answer to solve them.)\n",
    "\n",
    "***\n",
    "Questions to consider:\n",
    "* What are the business's pain points related to this project?\n",
    "* How did you pick the data analysis question(s) that you did?\n",
    "* Why are these questions important from a business perspective?\n",
    "***\n",
    "\n",
    "\n",
    "Microsoft is planning to create a new movie studio to get into the original video/film space. They do not have any background in creating movies and what makes a successful film. Through exploring data from sources such as Box Office Mojo, IMDB, Rotten Tomatoes, TheMovieDB, and The Numbers, I plan to explore what types of films are doing the best at the box office and find out what characterics are correlated to movie success. These finding will be translated into actionable insights that can help Microsoft's new movie studio decide what direction to take when creating new films. "
   ]
  },
  {
   "cell_type": "markdown",
   "metadata": {},
   "source": [
    "## Data Understanding\n",
    "(Describe the data being used for this project.)\n",
    "\n",
    "***\n",
    "Questions to consider:\n",
    "* Where did the data come from, and how do they relate to the data analysis questions?\n",
    "* What do the data represent? Who is in the sample and what variables are included?\n",
    "* What is the target variable?\n",
    "* What are the properties of the variables you intend to use?\n",
    "***"
   ]
  },
  {
   "cell_type": "code",
   "execution_count": null,
   "metadata": {},
   "outputs": [],
   "source": [
    "#Import Standard Packages\n",
    "import pandas as pd \n",
    "import numpy as np \n",
    "import matplotlib.pyplot as plt \n",
    "%matplotlib inline\n",
    "import sqlite3 \n",
    "from zipfile import ZipFile "
   ]
  },
  {
   "cell_type": "code",
   "execution_count": null,
   "metadata": {},
   "outputs": [],
   "source": [
    "#Importing Imdb Dataset\n",
    "\n",
    "#with ZipFile(r\"/Users/lucaswilkerson/Desktop/Phase1_project/dsc-phase-1-project-v2-4/zippedData/im.db.zip\", 'r') as zfiles:\n",
    "#   zfiles.printdir()\n",
    "#   zfiles.extractall()\n",
    "\n",
    "#Reading in additional files need from The Numbers Budget Dataset and Box Office Mojo\n",
    "#tn_budgets = pd.read_csv(\"zippedData/tn.movie_budgets.csv.gz\")\n",
    "#bom_gross = pd.read_csv(\"zippedData/bom.movie_gross.csv.gz\")"
   ]
  },
  {
   "cell_type": "code",
   "execution_count": null,
   "metadata": {},
   "outputs": [],
   "source": [
    "#Previewing dataset\n",
    "#tn_budgets.head()"
   ]
  },
  {
   "cell_type": "code",
   "execution_count": null,
   "metadata": {},
   "outputs": [],
   "source": [
    "#Previewing dataset info\n",
    "#tn_budgets.info()"
   ]
  },
  {
   "cell_type": "markdown",
   "metadata": {},
   "source": [
    "The Numbers Budget dataset contains 5782 records with 6 columns. Columns include id, release_date, movie, production_budget domestic_gross, and worldwide_gross with their data types being integer, object, object, object \n",
    "and object respectively. There are no missing values in this dataset. The production_budget, domestic_gross and worldwide_gross columns will need to be reformatted for calculations. "
   ]
  },
  {
   "cell_type": "code",
   "execution_count": null,
   "metadata": {},
   "outputs": [],
   "source": [
    "#Previewing dataset\n",
    "#bom_gross.head()"
   ]
  },
  {
   "cell_type": "code",
   "execution_count": null,
   "metadata": {},
   "outputs": [],
   "source": [
    "#Previewing dataset\n",
    "#bom_gross.info()"
   ]
  },
  {
   "cell_type": "markdown",
   "metadata": {},
   "source": [
    "The Box Office Mojo Dataset contains 3387 records with 5 columns. Columns include title, studio, domestic_gross, foreign_gross and year with their data types being object, object, float, object and integer respecitvely. \n",
    "There are missing values in the columns studio (5), domestic_gross (28), and foreign_gross (1350). "
   ]
  },
  {
   "cell_type": "markdown",
   "metadata": {},
   "source": [
    "## Data Preparation\n",
    "\n",
    "Describe and justify the process for preparing the data for analysis.\n",
    "\n",
    "***\n",
    "Questions to consider:\n",
    "* Were there variables you dropped or created?\n",
    "* How did you address missing values or outliers?\n",
    "* Why are these choices appropriate given the data and the business problem?"
   ]
  },
  {
   "cell_type": "markdown",
   "metadata": {},
   "source": [
    "For further analysis I will be utilizing The Number Bugdet Dataset and the IMDB dataset. While Box Office Mojo had relevant information on gross earings, it lacked production budget which is needed for further analysis of \n",
    "Net Gross Earnings for movies. "
   ]
  },
  {
   "cell_type": "code",
   "execution_count": null,
   "metadata": {},
   "outputs": [],
   "source": [
    "#Reformatting values for domestic gross, worldwide_gross and production_budget\n",
    "#tn_budgets['domestic_gross'] = tn_budgets['domestic_gross'].str.replace(',', '')\n",
    "#tn_budgets['domestic_gross'] = tn_budgets['domestic_gross'].str.replace('$', '')\n",
    "#tn_budgets['domestic_gross'] = tn_budgets['domestic_gross'].astype(float)\n",
    "\n",
    "#tn_budgets['worldwide_gross'] = tn_budgets['worldwide_gross'].str.replace(',', '')\n",
    "#tn_budgets['worldwide_gross'] = tn_budgets['worldwide_gross'].str.replace('$', '')\n",
    "#tn_budgets['worldwide_gross'] = tn_budgets['worldwide_gross'].astype(float)\n",
    "\n",
    "#tn_budgets['production_budget'] = tn_budgets['production_budget'].str.replace(',', '')\n",
    "#tn_budgets['production_budget'] = tn_budgets['production_budget'].str.replace('$', '')\n",
    "#tn_budgets['production_budget'] = tn_budgets['production_budget'].astype(float)\n"
   ]
  },
  {
   "cell_type": "code",
   "execution_count": null,
   "metadata": {},
   "outputs": [],
   "source": [
    "# dropping rows with 0 values for budget and gross columns\n",
    "#tn_budget_cleaned = tn_budgets.loc[(tn_budgets.domestic_gross != 0) \n",
    "#                                       &(tn_budgets.worldwide_gross != 0) \n",
    "#                                       &(tn_budgets.production_budget != 0)]\n",
    "\n",
    "#Setting index to ID \n",
    "#tn_budget_cleaned= tn_budget_cleaned.set_index('id', inplace = True)\n",
    "#tn_budget_cleaned.head(10)"
   ]
  },
  {
   "cell_type": "code",
   "execution_count": null,
   "metadata": {},
   "outputs": [],
   "source": [
    "#Making a new column for Net gross earning (worldwide gross- production budget) and sorting by Net_gross\n",
    "\n",
    "#tn_budget_cleaned['Net_Gross']= tn_budget_cleaned['worldwide_gross'] - tn_budget_cleaned['production_budget']\n",
    "#top_gross_movies= tn_budget_cleaned.sort_values(\"Net_Gross\", ascending = False)\n",
    "\n",
    "#Previewing Top Grossing movies\n",
    "#top_gross_movies.head(10)"
   ]
  },
  {
   "cell_type": "code",
   "execution_count": null,
   "metadata": {},
   "outputs": [],
   "source": [
    "#Adding columns adjusting budget and gross to millions\n",
    "#top_gross_movies['budget_millions']= (top_gross_movies[\"production_budget\"]/1000000)\n",
    "#top_gross_movies['Net_gross_millions']=(top_gross_movies[\"Net_Gross\"]/1000000)"
   ]
  },
  {
   "cell_type": "code",
   "execution_count": null,
   "metadata": {},
   "outputs": [],
   "source": [
    "#top10_movies_gross = top_gross_movies.head(10)\n",
    "#top10_movies_gross.plot(\n",
    "#    x=\"movie\", y=[\"Net_gross_millions\", \"budget_millions\"], kind=\"bar\")\n",
    "\n",
    "#plt.xlabel(\"Budgets and Gross of Top 10 Movies\")\n",
    "#plt.ylabel(\"Amount $\")\n",
    "#plt.legend([\"Net_gross_millions\", \"budget_millions\"])\n",
    "#plt.title(\"Budget for the Top 10 Highest Net Grossing Movies\")\n",
    "#plt.show()"
   ]
  },
  {
   "cell_type": "code",
   "execution_count": null,
   "metadata": {},
   "outputs": [],
   "source": [
    "#checking correlation between movie budget and net gross\n",
    "#top_gross_movies[\"production_budget\"].corr(top_gross_movies[\"Net_Gross\"])"
   ]
  },
  {
   "cell_type": "markdown",
   "metadata": {},
   "source": [
    "Looking at the data and correlations it seems that production budget does have a positive association with overall net gross earnings. "
   ]
  },
  {
   "cell_type": "code",
   "execution_count": null,
   "metadata": {},
   "outputs": [],
   "source": [
    "#getting statistic calculations\n",
    "#top_gross_movies.describe().T"
   ]
  },
  {
   "cell_type": "code",
   "execution_count": null,
   "metadata": {},
   "outputs": [],
   "source": [
    "#finding out the average production budget for films in millions\n",
    "#(top_gross_movies[\"production_budget\"].mean())/1000000\n",
    "\n",
    "#finding avg net gross for films in millions\n",
    "#(top_gross_movies[\"Net_Gross\"].mean())/1000000"
   ]
  },
  {
   "cell_type": "code",
   "execution_count": null,
   "metadata": {},
   "outputs": [],
   "source": [
    "#finding budget for top 100 grossing films in millions\n",
    "#(top100_gross_movies[\"production_budget\"].mean())/1000000\n",
    "\n",
    "#finding avg net gross for top 100 grossing films in millions\n",
    "#(top100_gross_movies[\"Net_Gross\"].mean())/1000000"
   ]
  },
  {
   "cell_type": "markdown",
   "metadata": {},
   "source": [
    "When it comes average production budget vs average net gross, the average production budget for a film is roughly 34-35 million dollars and the average net gross earnings is 69 million dollars. The median production budget is roughly 20 million dollars while the median net gross is ~15 million. Looking at the top 100 grossing movies, the average production budget for those films is roughly 159-160 million dollars and the average net gross earnings is 850 million dollars."
   ]
  },
  {
   "cell_type": "markdown",
   "metadata": {},
   "source": [
    "## Run Time "
   ]
  },
  {
   "cell_type": "code",
   "execution_count": null,
   "metadata": {},
   "outputs": [],
   "source": [
    "#exploring IMDB dataset\n",
    "#conn = sqlite3.connect(\"im.db\")\n",
    "#cur = conn.cursor()\n",
    "#imdb_df = pd.read_sql(\n",
    "#    \"\"\"\n",
    "#SELECT *\n",
    "#FROM movie_akas\n",
    "#\"\"\",\n",
    "#    conn,\n",
    "#)\n",
    "#imdb_df"
   ]
  },
  {
   "cell_type": "code",
   "execution_count": null,
   "metadata": {},
   "outputs": [],
   "source": [
    "#will need movie_id, primary_title, original_title, runtime_minutes, genres, averagerating, numvotes,\n",
    "#title, is_original_title\n",
    "\n",
    "#conn = sqlite3.connect(\"im.db\")\n",
    "#cur = conn.cursor()\n",
    "#imdb_movies = pd.read_sql(\n",
    "#    \"\"\"\n",
    "#SELECT b.movie_id, \n",
    "#       b.runtime_minutes, \n",
    "#       b.genres, \n",
    "#       r.averagerating, \n",
    "#       r.numvotes,\n",
    "#       a.title, \n",
    "#       a.is_original_title\n",
    "#FROM movie_basics as b\n",
    "#JOIN movie_ratings as r\n",
    "#    USING (movie_id)\n",
    "#JOIN movie_akas as a\n",
    "#    USING (movie_id)\n",
    "#WHERE is_original_title is 1.0\n",
    "#GROUP BY movie_id, genres\n",
    "#\n",
    "#\"\"\",\n",
    "#    conn,\n",
    "#)\n",
    "#imdb_movies"
   ]
  },
  {
   "cell_type": "code",
   "execution_count": null,
   "metadata": {},
   "outputs": [],
   "source": [
    "#dropping nulls and renaming title to movie to merge with top grossing movies df\n",
    "#imdb_movies= imdb_movies.dropna()\n",
    "#imdb_movies= imdb_movies.rename(columns= {\"title\": \"movie\"})"
   ]
  },
  {
   "cell_type": "code",
   "execution_count": null,
   "metadata": {},
   "outputs": [],
   "source": [
    "#merging data frames\n",
    "#top_movies_all = pd.merge(top_gross_movies, imdb_movies, how = \"left\", on= [\"movie\"])\n",
    "#top_movies_all.head(10)"
   ]
  },
  {
   "cell_type": "code",
   "execution_count": null,
   "metadata": {},
   "outputs": [],
   "source": [
    "#Checking info \n",
    "#top_movies_all.info()"
   ]
  },
  {
   "cell_type": "code",
   "execution_count": null,
   "metadata": {},
   "outputs": [],
   "source": [
    "#dropping any duplicate movies and also dropping NaNs\n",
    "#top_movies_all= top_movies_all.drop_duplicates(subset= ['movie'])\n",
    "#top_movies_dropped_null= top_movies_dropped_studio.dropna()"
   ]
  },
  {
   "cell_type": "code",
   "execution_count": null,
   "metadata": {},
   "outputs": [],
   "source": [
    "#top20_movies_runtime= top_movies_dropped_null.head(20)\n",
    "#top20_movies_runtime.plot(\n",
    "#    x=\"movie\", y=[\"runtime_minutes\"], kind=\"bar\", figsize = (12,12))\n",
    "#plt.xlabel(\"Run times of the Top 20 Movies\")\n",
    "#plt.ylabel(\"Time in Minutes\")\n",
    "#plt.legend([\"Runtime_minutes\"])\n",
    "#plt.title(\"Run Time and Net Gross Per Movie\")\n",
    "#plt.show()"
   ]
  },
  {
   "cell_type": "code",
   "execution_count": null,
   "metadata": {},
   "outputs": [],
   "source": [
    "#scatter plot \n",
    "#top_movies_dropped_null.plot(\n",
    "#    x=\"runtime_minutes\", y= [\"Net_Gross\"], kind=\"scatter\", figsize = (12,12))"
   ]
  },
  {
   "cell_type": "code",
   "execution_count": null,
   "metadata": {},
   "outputs": [],
   "source": [
    "#running correlation of run time to net gross\n",
    "#top_movies_dropped_null[\"runtime_minutes\"].corr(top_movies_dropped_null[\"Net_Gross\"])"
   ]
  },
  {
   "cell_type": "code",
   "execution_count": null,
   "metadata": {},
   "outputs": [],
   "source": [
    "#Need to calculate average run time and average gross to give recs"
   ]
  },
  {
   "cell_type": "markdown",
   "metadata": {},
   "source": [
    "## Genre Analysis"
   ]
  },
  {
   "cell_type": "code",
   "execution_count": null,
   "metadata": {},
   "outputs": [],
   "source": [
    "# Each movie has 1 up to 3 genres listed \n",
    "# Need to separate out genres \n",
    "top_movies_dropped_null[['genre1', 'genre2', 'genre3']] = top_movies_dropped_null[\"genres\"].apply(lambda x: pd.Series(str(x).split(\",\")))\n",
    "top_movies_dropped_null.head()\n"
   ]
  },
  {
   "cell_type": "code",
   "execution_count": null,
   "metadata": {},
   "outputs": [],
   "source": [
    "#Made 3 dataframes with each genre column and then concatenated them \n",
    "#to make 1 dataframe with 1 genre column containing all genres \n",
    "\n",
    "genres1= top_movies_dropped_null.drop(columns=[\"genres\", \"genre2\",\"genre3\"])\n",
    "genres2= top_movies_dropped_null.drop(columns=[\"genres\", \"genre1\",\"genre3\"])\n",
    "genres3= top_movies_dropped_null.drop(columns=[\"genres\", \"genre1\",\"genre2\"])\n",
    "\n",
    "genres1= genres1.rename(columns = {\"genre1\":\"genre\"})\n",
    "genres2= genres2.rename(columns = {\"genre2\":\"genre\"})\n",
    "genres3= genres3.rename(columns = {\"genre3\":\"genre\"})\n",
    "\n",
    "genres_12= pd.concat([genres1, genres2])\n",
    "genres= pd.concat([genres_12, genres3])\n",
    "genres.head()"
   ]
  },
  {
   "cell_type": "code",
   "execution_count": null,
   "metadata": {},
   "outputs": [],
   "source": [
    "#Dropping NaN and grouping by genre aggragting by Net gross mean and max\n",
    "genres= genres.dropna()\n",
    "genres[\"Net_Gross\"]= genres[\"Net_Gross\"]/1000000\n",
    "genres_grouped= genres.groupby(\"genre\").agg({'Net_Gross': ['mean','max']})\n",
    "\n",
    "genres_grouped= genres_grouped.reset_index()\n",
    "genres_grouped.head(10)"
   ]
  },
  {
   "cell_type": "code",
   "execution_count": 1,
   "metadata": {},
   "outputs": [],
   "source": [
    "#sorting by Net Gross mean\n",
    "genres_grouped= genres_grouped.sort_values((\"Net_Gross\",'mean'), ascending= False)"
   ]
  },
  {
   "cell_type": "code",
   "execution_count": null,
   "metadata": {},
   "outputs": [],
   "source": [
    "#plotting top 10 genres by average net gross\n",
    "genres_top10= genres_grouped.head(10)\n",
    "genres_top10.plot(\n",
    "    x= \"genre\", y=[\"Net_Gross\"], kind=\"bar\", figsize = (12,12))\n",
    "plt.xlabel(\"Top Grossing Genres\")\n",
    "plt.ylabel(\"Gross in Millions $\")\n",
    "plt.legend([\"Mean Gross\",\"Max Gross\"])\n",
    "plt.title(\"Top Grossing Genres\")\n",
    "plt.show()"
   ]
  },
  {
   "cell_type": "markdown",
   "metadata": {},
   "source": [
    "## Evaluation\n",
    "Evaluate how well your work solves the stated business problem.\n",
    "\n",
    "***\n",
    "Questions to consider:\n",
    "* How do you interpret the results?\n",
    "* How well does your model fit your data? How much better is this than your baseline model?\n",
    "* How confident are you that your results would generalize beyond the data you have?\n",
    "* How confident are you that this model would benefit the business if put into use?\n",
    "***"
   ]
  },
  {
   "cell_type": "markdown",
   "metadata": {},
   "source": [
    "## Conclusions\n",
    "Provide your conclusions about the work you've done, including any limitations or next steps.\n",
    "\n",
    "***\n",
    "Questions to consider:\n",
    "* What would you recommend the business do as a result of this work?\n",
    "* What are some reasons why your analysis might not fully solve the business problem?\n",
    "* What else could you do in the future to improve this project?\n",
    "***"
   ]
  },
  {
   "cell_type": "code",
   "execution_count": null,
   "metadata": {},
   "outputs": [],
   "source": []
  }
 ],
 "metadata": {
  "kernelspec": {
   "display_name": "Python 3",
   "language": "python",
   "name": "python3"
  },
  "language_info": {
   "codemirror_mode": {
    "name": "ipython",
    "version": 3
   },
   "file_extension": ".py",
   "mimetype": "text/x-python",
   "name": "python",
   "nbconvert_exporter": "python",
   "pygments_lexer": "ipython3",
   "version": "3.8.5"
  }
 },
 "nbformat": 4,
 "nbformat_minor": 2
}
